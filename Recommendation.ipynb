{
 "cells": [
  {
   "cell_type": "code",
   "execution_count": 3,
   "id": "eac547c5",
   "metadata": {},
   "outputs": [
    {
     "name": "stdout",
     "output_type": "stream",
     "text": [
      "📰 News Data Shape: (101527, 8)\n",
      "\n",
      "📰 Sample News Data:\n",
      "        0          1                         2  \\\n",
      "0  N88753  lifestyle           lifestyleroyals   \n",
      "1  N45436       news  newsscienceandtechnology   \n",
      "2  N23144     health                weightloss   \n",
      "3  N86255     health                   medical   \n",
      "4  N93187       news                 newsworld   \n",
      "\n",
      "                                                   3  \\\n",
      "0  The Brands Queen Elizabeth, Prince Charles, an...   \n",
      "1    Walmart Slashes Prices on Last-Generation iPads   \n",
      "2                      50 Worst Habits For Belly Fat   \n",
      "3  Dispose of unwanted prescription drugs during ...   \n",
      "4  The Cost of Trump's Aid Freeze in the Trenches...   \n",
      "\n",
      "                                                   4  \\\n",
      "0  Shop the notebooks, jackets, and more that the...   \n",
      "1  Apple's new iPad releases bring big deals on l...   \n",
      "2  These seemingly harmless habits are holding yo...   \n",
      "3                                                NaN   \n",
      "4  Lt. Ivan Molchanets peeked over a parapet of s...   \n",
      "\n",
      "                                               5  \\\n",
      "0  https://assets.msn.com/labs/mind/AAGH0ET.html   \n",
      "1  https://assets.msn.com/labs/mind/AABmf2I.html   \n",
      "2  https://assets.msn.com/labs/mind/AAB19MK.html   \n",
      "3  https://assets.msn.com/labs/mind/AAISxPN.html   \n",
      "4  https://assets.msn.com/labs/mind/AAJgNsz.html   \n",
      "\n",
      "                                                   6  \\\n",
      "0  [{\"Label\": \"Prince Philip, Duke of Edinburgh\",...   \n",
      "1  [{\"Label\": \"IPad\", \"Type\": \"J\", \"WikidataId\": ...   \n",
      "2  [{\"Label\": \"Adipose tissue\", \"Type\": \"C\", \"Wik...   \n",
      "3  [{\"Label\": \"Drug Enforcement Administration\", ...   \n",
      "4                                                 []   \n",
      "\n",
      "                                                   7  \n",
      "0                                                 []  \n",
      "1  [{\"Label\": \"IPad\", \"Type\": \"J\", \"WikidataId\": ...  \n",
      "2  [{\"Label\": \"Adipose tissue\", \"Type\": \"C\", \"Wik...  \n",
      "3                                                 []  \n",
      "4  [{\"Label\": \"Ukraine\", \"Type\": \"G\", \"WikidataId...  \n",
      "👤 Behaviors Data Shape: (2232748, 5)\n",
      "\n",
      "👤 Sample Behaviors Data:\n",
      "   0        1                       2  \\\n",
      "0  1   U87243  11/10/2019 11:30:54 AM   \n",
      "1  2  U598644   11/12/2019 1:45:29 PM   \n",
      "2  3  U532401  11/13/2019 11:23:03 AM   \n",
      "3  4  U593596  11/12/2019 12:24:09 PM   \n",
      "4  5  U239687   11/14/2019 8:03:01 PM   \n",
      "\n",
      "                                                   3  \\\n",
      "0  N8668 N39081 N65259 N79529 N73408 N43615 N2937...   \n",
      "1  N56056 N8726 N70353 N67998 N83823 N111108 N107...   \n",
      "2  N128643 N87446 N122948 N9375 N82348 N129412 N5...   \n",
      "3  N31043 N39592 N4104 N8223 N114581 N92747 N1207...   \n",
      "4  N65250 N122359 N71723 N53796 N41663 N41484 N11...   \n",
      "\n",
      "                                                   4  \n",
      "0  N78206-0 N26368-0 N7578-0 N58592-0 N19858-0 N5...  \n",
      "1  N47996-0 N82719-0 N117066-0 N8491-0 N123784-0 ...  \n",
      "2              N103852-0 N53474-0 N127836-0 N47925-1  \n",
      "3  N38902-0 N76434-0 N71593-0 N100073-0 N108736-0...  \n",
      "4  N76209-0 N48841-0 N67937-0 N62235-0 N6307-0 N3...  \n"
     ]
    }
   ],
   "source": [
    "import pandas as pd\n",
    "\n",
    "# Read first few rows of news.tsv\n",
    "news_df = pd.read_table(\"/Users/swayamdesai/Downloads/MINDlarge_train/news.tsv\", header=None)\n",
    "\n",
    "# Show shape and head\n",
    "print(\"📰 News Data Shape:\", news_df.shape)\n",
    "print(\"\\n📰 Sample News Data:\")\n",
    "print(news_df.head())\n",
    "\n",
    "\n",
    "# Read first few rows of behaviors.tsv\n",
    "behaviors_df = pd.read_table(\"/Users/swayamdesai/Downloads/MINDlarge_train/behaviors.tsv\", header=None)\n",
    "\n",
    "# Show shape and head\n",
    "print(\"👤 Behaviors Data Shape:\", behaviors_df.shape)\n",
    "print(\"\\n👤 Sample Behaviors Data:\")\n",
    "print(behaviors_df.head())\n"
   ]
  },
  {
   "cell_type": "markdown",
   "id": "1fbf5f75",
   "metadata": {},
   "source": [
    "EDA"
   ]
  },
  {
   "cell_type": "code",
   "execution_count": null,
   "id": "612d2966",
   "metadata": {},
   "outputs": [],
   "source": []
  },
  {
   "cell_type": "code",
   "execution_count": 4,
   "id": "ffd348d3",
   "metadata": {},
   "outputs": [],
   "source": [
    "news_df.columns = [\n",
    "    \"news_id\", \"category\", \"subcategory\", \"title\",\n",
    "    \"abstract\", \"url\", \"title_entities\", \"abstract_entities\"\n",
    "]\n",
    "\n",
    "behaviors_df.columns = [\n",
    "    \"impression_id\", \"user_id\", \"timestamp\", \"history\", \"impressions\"\n",
    "]\n"
   ]
  },
  {
   "cell_type": "code",
   "execution_count": 4,
   "id": "68d7c1b3",
   "metadata": {},
   "outputs": [
    {
     "name": "stdout",
     "output_type": "stream",
     "text": [
      "<class 'pandas.core.frame.DataFrame'>\n",
      "RangeIndex: 2232748 entries, 0 to 2232747\n",
      "Data columns (total 5 columns):\n",
      " #   Column         Dtype \n",
      "---  ------         ----- \n",
      " 0   impression_id  int64 \n",
      " 1   user_id        object\n",
      " 2   timestamp      object\n",
      " 3   history        object\n",
      " 4   impressions    object\n",
      "dtypes: int64(1), object(4)\n",
      "memory usage: 85.2+ MB\n",
      "None\n",
      "   impression_id  user_id               timestamp  \\\n",
      "0              1   U87243  11/10/2019 11:30:54 AM   \n",
      "1              2  U598644   11/12/2019 1:45:29 PM   \n",
      "2              3  U532401  11/13/2019 11:23:03 AM   \n",
      "3              4  U593596  11/12/2019 12:24:09 PM   \n",
      "4              5  U239687   11/14/2019 8:03:01 PM   \n",
      "\n",
      "                                             history  \\\n",
      "0  N8668 N39081 N65259 N79529 N73408 N43615 N2937...   \n",
      "1  N56056 N8726 N70353 N67998 N83823 N111108 N107...   \n",
      "2  N128643 N87446 N122948 N9375 N82348 N129412 N5...   \n",
      "3  N31043 N39592 N4104 N8223 N114581 N92747 N1207...   \n",
      "4  N65250 N122359 N71723 N53796 N41663 N41484 N11...   \n",
      "\n",
      "                                         impressions  \n",
      "0  N78206-0 N26368-0 N7578-0 N58592-0 N19858-0 N5...  \n",
      "1  N47996-0 N82719-0 N117066-0 N8491-0 N123784-0 ...  \n",
      "2              N103852-0 N53474-0 N127836-0 N47925-1  \n",
      "3  N38902-0 N76434-0 N71593-0 N100073-0 N108736-0...  \n",
      "4  N76209-0 N48841-0 N67937-0 N62235-0 N6307-0 N3...  \n"
     ]
    }
   ],
   "source": [
    "# See all columns and types\n",
    "print(behaviors_df.info())\n",
    "print(behaviors_df.head())"
   ]
  },
  {
   "cell_type": "code",
   "execution_count": 5,
   "id": "413c4d39",
   "metadata": {},
   "outputs": [
    {
     "name": "stdout",
     "output_type": "stream",
     "text": [
      "No of impressions: 2232748\n",
      "No of users: 711222\n",
      "\n",
      "Missing values in news_df:\n",
      "news_id                 0\n",
      "category                0\n",
      "subcategory             0\n",
      "title                   0\n",
      "abstract             5415\n",
      "url                     0\n",
      "title_entities          3\n",
      "abstract_entities       6\n",
      "dtype: int64\n",
      "\n",
      "Missing values in behaviors_df:\n",
      "impression_id        0\n",
      "user_id              0\n",
      "timestamp            0\n",
      "history          46065\n",
      "impressions          0\n",
      "dtype: int64\n"
     ]
    }
   ],
   "source": [
    "print(\"No of impressions:\", behaviors_df['impression_id'].nunique())\n",
    "\n",
    "print(\"No of users:\", behaviors_df['user_id'].nunique())\n",
    "\n",
    "# Check for missing values in news_df\n",
    "print(\"\\nMissing values in news_df:\")\n",
    "print(news_df.isnull().sum())\n",
    "# Check for missing values in behaviors_df      \n",
    "print(\"\\nMissing values in behaviors_df:\")\n",
    "print(behaviors_df.isnull().sum())\n"
   ]
  },
  {
   "cell_type": "code",
   "execution_count": 6,
   "id": "17e3631c",
   "metadata": {},
   "outputs": [
    {
     "name": "stdout",
     "output_type": "stream",
     "text": [
      "11/10/2019 10:00:00 AM\n",
      "11/9/2019 9:59:59 PM\n"
     ]
    }
   ],
   "source": [
    "print(behaviors_df['timestamp'].min())\n",
    "print(behaviors_df['timestamp'].max())\n"
   ]
  },
  {
   "cell_type": "code",
   "execution_count": 7,
   "id": "85e9331d",
   "metadata": {},
   "outputs": [],
   "source": [
    "behaviors_df['timestamp'] = pd.to_datetime(behaviors_df['timestamp'])\n"
   ]
  },
  {
   "cell_type": "code",
   "execution_count": 8,
   "id": "b35ea049",
   "metadata": {},
   "outputs": [
    {
     "data": {
      "text/plain": [
       "count    2.232748e+06\n",
       "mean     3.297724e+01\n",
       "std      4.087336e+01\n",
       "min      0.000000e+00\n",
       "25%      8.000000e+00\n",
       "50%      1.900000e+01\n",
       "75%      4.200000e+01\n",
       "max      8.010000e+02\n",
       "Name: history_len, dtype: float64"
      ]
     },
     "execution_count": 8,
     "metadata": {},
     "output_type": "execute_result"
    }
   ],
   "source": [
    "behaviors_df['history'].isnull().sum()\n",
    "behaviors_df['history_len'] = behaviors_df['history'].fillna('').apply(lambda x: len(x.split()))\n",
    "behaviors_df['history_len'].describe()\n"
   ]
  },
  {
   "cell_type": "code",
   "execution_count": 9,
   "id": "9e02b7f9",
   "metadata": {},
   "outputs": [
    {
     "ename": "KeyboardInterrupt",
     "evalue": "",
     "output_type": "error",
     "traceback": [
      "\u001b[31m---------------------------------------------------------------------------\u001b[39m",
      "\u001b[31mKeyboardInterrupt\u001b[39m                         Traceback (most recent call last)",
      "\u001b[36mCell\u001b[39m\u001b[36m \u001b[39m\u001b[32mIn[9]\u001b[39m\u001b[32m, line 7\u001b[39m\n\u001b[32m      4\u001b[39m     clicks = \u001b[38;5;28msum\u001b[39m(\u001b[38;5;28mint\u001b[39m(i.split(\u001b[33m'\u001b[39m\u001b[33m-\u001b[39m\u001b[33m'\u001b[39m)[\u001b[32m1\u001b[39m]) \u001b[38;5;28;01mfor\u001b[39;00m i \u001b[38;5;129;01min\u001b[39;00m items)\n\u001b[32m      5\u001b[39m     \u001b[38;5;28;01mreturn\u001b[39;00m pd.Series([total, clicks])\n\u001b[32m----> \u001b[39m\u001b[32m7\u001b[39m behaviors_df[[\u001b[33m'\u001b[39m\u001b[33mtotal_impressions\u001b[39m\u001b[33m'\u001b[39m, \u001b[33m'\u001b[39m\u001b[33mclicks\u001b[39m\u001b[33m'\u001b[39m]] = \u001b[43mbehaviors_df\u001b[49m\u001b[43m[\u001b[49m\u001b[33;43m'\u001b[39;49m\u001b[33;43mimpressions\u001b[39;49m\u001b[33;43m'\u001b[39;49m\u001b[43m]\u001b[49m\u001b[43m.\u001b[49m\u001b[43mapply\u001b[49m\u001b[43m(\u001b[49m\u001b[43mparse_impression_stats\u001b[49m\u001b[43m)\u001b[49m\n\u001b[32m      8\u001b[39m behaviors_df[[\u001b[33m'\u001b[39m\u001b[33mtotal_impressions\u001b[39m\u001b[33m'\u001b[39m, \u001b[33m'\u001b[39m\u001b[33mclicks\u001b[39m\u001b[33m'\u001b[39m]].describe()\n",
      "\u001b[36mFile \u001b[39m\u001b[32m~/Desktop/venv/lib/python3.12/site-packages/pandas/core/series.py:4924\u001b[39m, in \u001b[36mSeries.apply\u001b[39m\u001b[34m(self, func, convert_dtype, args, by_row, **kwargs)\u001b[39m\n\u001b[32m   4789\u001b[39m \u001b[38;5;28;01mdef\u001b[39;00m\u001b[38;5;250m \u001b[39m\u001b[34mapply\u001b[39m(\n\u001b[32m   4790\u001b[39m     \u001b[38;5;28mself\u001b[39m,\n\u001b[32m   4791\u001b[39m     func: AggFuncType,\n\u001b[32m   (...)\u001b[39m\u001b[32m   4796\u001b[39m     **kwargs,\n\u001b[32m   4797\u001b[39m ) -> DataFrame | Series:\n\u001b[32m   4798\u001b[39m \u001b[38;5;250m    \u001b[39m\u001b[33;03m\"\"\"\u001b[39;00m\n\u001b[32m   4799\u001b[39m \u001b[33;03m    Invoke function on values of Series.\u001b[39;00m\n\u001b[32m   4800\u001b[39m \n\u001b[32m   (...)\u001b[39m\u001b[32m   4915\u001b[39m \u001b[33;03m    dtype: float64\u001b[39;00m\n\u001b[32m   4916\u001b[39m \u001b[33;03m    \"\"\"\u001b[39;00m\n\u001b[32m   4917\u001b[39m     \u001b[38;5;28;01mreturn\u001b[39;00m \u001b[43mSeriesApply\u001b[49m\u001b[43m(\u001b[49m\n\u001b[32m   4918\u001b[39m \u001b[43m        \u001b[49m\u001b[38;5;28;43mself\u001b[39;49m\u001b[43m,\u001b[49m\n\u001b[32m   4919\u001b[39m \u001b[43m        \u001b[49m\u001b[43mfunc\u001b[49m\u001b[43m,\u001b[49m\n\u001b[32m   4920\u001b[39m \u001b[43m        \u001b[49m\u001b[43mconvert_dtype\u001b[49m\u001b[43m=\u001b[49m\u001b[43mconvert_dtype\u001b[49m\u001b[43m,\u001b[49m\n\u001b[32m   4921\u001b[39m \u001b[43m        \u001b[49m\u001b[43mby_row\u001b[49m\u001b[43m=\u001b[49m\u001b[43mby_row\u001b[49m\u001b[43m,\u001b[49m\n\u001b[32m   4922\u001b[39m \u001b[43m        \u001b[49m\u001b[43margs\u001b[49m\u001b[43m=\u001b[49m\u001b[43margs\u001b[49m\u001b[43m,\u001b[49m\n\u001b[32m   4923\u001b[39m \u001b[43m        \u001b[49m\u001b[43mkwargs\u001b[49m\u001b[43m=\u001b[49m\u001b[43mkwargs\u001b[49m\u001b[43m,\u001b[49m\n\u001b[32m-> \u001b[39m\u001b[32m4924\u001b[39m \u001b[43m    \u001b[49m\u001b[43m)\u001b[49m\u001b[43m.\u001b[49m\u001b[43mapply\u001b[49m\u001b[43m(\u001b[49m\u001b[43m)\u001b[49m\n",
      "\u001b[36mFile \u001b[39m\u001b[32m~/Desktop/venv/lib/python3.12/site-packages/pandas/core/apply.py:1427\u001b[39m, in \u001b[36mSeriesApply.apply\u001b[39m\u001b[34m(self)\u001b[39m\n\u001b[32m   1424\u001b[39m     \u001b[38;5;28;01mreturn\u001b[39;00m \u001b[38;5;28mself\u001b[39m.apply_compat()\n\u001b[32m   1426\u001b[39m \u001b[38;5;66;03m# self.func is Callable\u001b[39;00m\n\u001b[32m-> \u001b[39m\u001b[32m1427\u001b[39m \u001b[38;5;28;01mreturn\u001b[39;00m \u001b[38;5;28;43mself\u001b[39;49m\u001b[43m.\u001b[49m\u001b[43mapply_standard\u001b[49m\u001b[43m(\u001b[49m\u001b[43m)\u001b[49m\n",
      "\u001b[36mFile \u001b[39m\u001b[32m~/Desktop/venv/lib/python3.12/site-packages/pandas/core/apply.py:1514\u001b[39m, in \u001b[36mSeriesApply.apply_standard\u001b[39m\u001b[34m(self)\u001b[39m\n\u001b[32m   1507\u001b[39m mapped = obj._map_values(\n\u001b[32m   1508\u001b[39m     mapper=curried, na_action=action, convert=\u001b[38;5;28mself\u001b[39m.convert_dtype\n\u001b[32m   1509\u001b[39m )\n\u001b[32m   1511\u001b[39m \u001b[38;5;28;01mif\u001b[39;00m \u001b[38;5;28mlen\u001b[39m(mapped) \u001b[38;5;129;01mand\u001b[39;00m \u001b[38;5;28misinstance\u001b[39m(mapped[\u001b[32m0\u001b[39m], ABCSeries):\n\u001b[32m   1512\u001b[39m     \u001b[38;5;66;03m# GH#43986 Need to do list(mapped) in order to get treated as nested\u001b[39;00m\n\u001b[32m   1513\u001b[39m     \u001b[38;5;66;03m#  See also GH#25959 regarding EA support\u001b[39;00m\n\u001b[32m-> \u001b[39m\u001b[32m1514\u001b[39m     \u001b[38;5;28;01mreturn\u001b[39;00m \u001b[43mobj\u001b[49m\u001b[43m.\u001b[49m\u001b[43m_constructor_expanddim\u001b[49m\u001b[43m(\u001b[49m\u001b[38;5;28;43mlist\u001b[39;49m\u001b[43m(\u001b[49m\u001b[43mmapped\u001b[49m\u001b[43m)\u001b[49m\u001b[43m,\u001b[49m\u001b[43m \u001b[49m\u001b[43mindex\u001b[49m\u001b[43m=\u001b[49m\u001b[43mobj\u001b[49m\u001b[43m.\u001b[49m\u001b[43mindex\u001b[49m\u001b[43m)\u001b[49m\n\u001b[32m   1515\u001b[39m \u001b[38;5;28;01melse\u001b[39;00m:\n\u001b[32m   1516\u001b[39m     \u001b[38;5;28;01mreturn\u001b[39;00m obj._constructor(mapped, index=obj.index).__finalize__(\n\u001b[32m   1517\u001b[39m         obj, method=\u001b[33m\"\u001b[39m\u001b[33mapply\u001b[39m\u001b[33m\"\u001b[39m\n\u001b[32m   1518\u001b[39m     )\n",
      "\u001b[36mFile \u001b[39m\u001b[32m~/Desktop/venv/lib/python3.12/site-packages/pandas/core/frame.py:851\u001b[39m, in \u001b[36mDataFrame.__init__\u001b[39m\u001b[34m(self, data, index, columns, dtype, copy)\u001b[39m\n\u001b[32m    849\u001b[39m     \u001b[38;5;28;01mif\u001b[39;00m columns \u001b[38;5;129;01mis\u001b[39;00m \u001b[38;5;129;01mnot\u001b[39;00m \u001b[38;5;28;01mNone\u001b[39;00m:\n\u001b[32m    850\u001b[39m         columns = ensure_index(columns)\n\u001b[32m--> \u001b[39m\u001b[32m851\u001b[39m     arrays, columns, index = \u001b[43mnested_data_to_arrays\u001b[49m\u001b[43m(\u001b[49m\n\u001b[32m    852\u001b[39m \u001b[43m        \u001b[49m\u001b[38;5;66;43;03m# error: Argument 3 to \"nested_data_to_arrays\" has incompatible\u001b[39;49;00m\n\u001b[32m    853\u001b[39m \u001b[43m        \u001b[49m\u001b[38;5;66;43;03m# type \"Optional[Collection[Any]]\"; expected \"Optional[Index]\"\u001b[39;49;00m\n\u001b[32m    854\u001b[39m \u001b[43m        \u001b[49m\u001b[43mdata\u001b[49m\u001b[43m,\u001b[49m\n\u001b[32m    855\u001b[39m \u001b[43m        \u001b[49m\u001b[43mcolumns\u001b[49m\u001b[43m,\u001b[49m\n\u001b[32m    856\u001b[39m \u001b[43m        \u001b[49m\u001b[43mindex\u001b[49m\u001b[43m,\u001b[49m\u001b[43m  \u001b[49m\u001b[38;5;66;43;03m# type: ignore[arg-type]\u001b[39;49;00m\n\u001b[32m    857\u001b[39m \u001b[43m        \u001b[49m\u001b[43mdtype\u001b[49m\u001b[43m,\u001b[49m\n\u001b[32m    858\u001b[39m \u001b[43m    \u001b[49m\u001b[43m)\u001b[49m\n\u001b[32m    859\u001b[39m     mgr = arrays_to_mgr(\n\u001b[32m    860\u001b[39m         arrays,\n\u001b[32m    861\u001b[39m         columns,\n\u001b[32m   (...)\u001b[39m\u001b[32m    864\u001b[39m         typ=manager,\n\u001b[32m    865\u001b[39m     )\n\u001b[32m    866\u001b[39m \u001b[38;5;28;01melse\u001b[39;00m:\n",
      "\u001b[36mFile \u001b[39m\u001b[32m~/Desktop/venv/lib/python3.12/site-packages/pandas/core/internals/construction.py:520\u001b[39m, in \u001b[36mnested_data_to_arrays\u001b[39m\u001b[34m(data, columns, index, dtype)\u001b[39m\n\u001b[32m    517\u001b[39m \u001b[38;5;28;01mif\u001b[39;00m is_named_tuple(data[\u001b[32m0\u001b[39m]) \u001b[38;5;129;01mand\u001b[39;00m columns \u001b[38;5;129;01mis\u001b[39;00m \u001b[38;5;28;01mNone\u001b[39;00m:\n\u001b[32m    518\u001b[39m     columns = ensure_index(data[\u001b[32m0\u001b[39m]._fields)\n\u001b[32m--> \u001b[39m\u001b[32m520\u001b[39m arrays, columns = \u001b[43mto_arrays\u001b[49m\u001b[43m(\u001b[49m\u001b[43mdata\u001b[49m\u001b[43m,\u001b[49m\u001b[43m \u001b[49m\u001b[43mcolumns\u001b[49m\u001b[43m,\u001b[49m\u001b[43m \u001b[49m\u001b[43mdtype\u001b[49m\u001b[43m=\u001b[49m\u001b[43mdtype\u001b[49m\u001b[43m)\u001b[49m\n\u001b[32m    521\u001b[39m columns = ensure_index(columns)\n\u001b[32m    523\u001b[39m \u001b[38;5;28;01mif\u001b[39;00m index \u001b[38;5;129;01mis\u001b[39;00m \u001b[38;5;28;01mNone\u001b[39;00m:\n",
      "\u001b[36mFile \u001b[39m\u001b[32m~/Desktop/venv/lib/python3.12/site-packages/pandas/core/internals/construction.py:839\u001b[39m, in \u001b[36mto_arrays\u001b[39m\u001b[34m(data, columns, dtype)\u001b[39m\n\u001b[32m    837\u001b[39m     arr, columns = _list_of_dict_to_arrays(data, columns)\n\u001b[32m    838\u001b[39m \u001b[38;5;28;01melif\u001b[39;00m \u001b[38;5;28misinstance\u001b[39m(data[\u001b[32m0\u001b[39m], ABCSeries):\n\u001b[32m--> \u001b[39m\u001b[32m839\u001b[39m     arr, columns = \u001b[43m_list_of_series_to_arrays\u001b[49m\u001b[43m(\u001b[49m\u001b[43mdata\u001b[49m\u001b[43m,\u001b[49m\u001b[43m \u001b[49m\u001b[43mcolumns\u001b[49m\u001b[43m)\u001b[49m\n\u001b[32m    840\u001b[39m \u001b[38;5;28;01melse\u001b[39;00m:\n\u001b[32m    841\u001b[39m     \u001b[38;5;66;03m# last ditch effort\u001b[39;00m\n\u001b[32m    842\u001b[39m     data = [\u001b[38;5;28mtuple\u001b[39m(x) \u001b[38;5;28;01mfor\u001b[39;00m x \u001b[38;5;129;01min\u001b[39;00m data]\n",
      "\u001b[36mFile \u001b[39m\u001b[32m~/Desktop/venv/lib/python3.12/site-packages/pandas/core/internals/construction.py:885\u001b[39m, in \u001b[36m_list_of_series_to_arrays\u001b[39m\u001b[34m(data, columns)\u001b[39m\n\u001b[32m    882\u001b[39m         indexer = indexer_cache[\u001b[38;5;28mid\u001b[39m(index)] = index.get_indexer(columns)\n\u001b[32m    884\u001b[39m     values = extract_array(s, extract_numpy=\u001b[38;5;28;01mTrue\u001b[39;00m)\n\u001b[32m--> \u001b[39m\u001b[32m885\u001b[39m     aligned_values.append(\u001b[43malgorithms\u001b[49m\u001b[43m.\u001b[49m\u001b[43mtake_nd\u001b[49m\u001b[43m(\u001b[49m\u001b[43mvalues\u001b[49m\u001b[43m,\u001b[49m\u001b[43m \u001b[49m\u001b[43mindexer\u001b[49m\u001b[43m)\u001b[49m)\n\u001b[32m    887\u001b[39m content = np.vstack(aligned_values)\n\u001b[32m    888\u001b[39m \u001b[38;5;28;01mreturn\u001b[39;00m content, columns\n",
      "\u001b[36mFile \u001b[39m\u001b[32m~/Desktop/venv/lib/python3.12/site-packages/pandas/core/array_algos/take.py:117\u001b[39m, in \u001b[36mtake_nd\u001b[39m\u001b[34m(arr, indexer, axis, fill_value, allow_fill)\u001b[39m\n\u001b[32m    114\u001b[39m     \u001b[38;5;28;01mreturn\u001b[39;00m arr.take(indexer, fill_value=fill_value, allow_fill=allow_fill)\n\u001b[32m    116\u001b[39m arr = np.asarray(arr)\n\u001b[32m--> \u001b[39m\u001b[32m117\u001b[39m \u001b[38;5;28;01mreturn\u001b[39;00m \u001b[43m_take_nd_ndarray\u001b[49m\u001b[43m(\u001b[49m\u001b[43marr\u001b[49m\u001b[43m,\u001b[49m\u001b[43m \u001b[49m\u001b[43mindexer\u001b[49m\u001b[43m,\u001b[49m\u001b[43m \u001b[49m\u001b[43maxis\u001b[49m\u001b[43m,\u001b[49m\u001b[43m \u001b[49m\u001b[43mfill_value\u001b[49m\u001b[43m,\u001b[49m\u001b[43m \u001b[49m\u001b[43mallow_fill\u001b[49m\u001b[43m)\u001b[49m\n",
      "\u001b[36mFile \u001b[39m\u001b[32m~/Desktop/venv/lib/python3.12/site-packages/pandas/core/array_algos/take.py:133\u001b[39m, in \u001b[36m_take_nd_ndarray\u001b[39m\u001b[34m(arr, indexer, axis, fill_value, allow_fill)\u001b[39m\n\u001b[32m    130\u001b[39m \u001b[38;5;28;01melse\u001b[39;00m:\n\u001b[32m    131\u001b[39m     indexer = ensure_platform_int(indexer)\n\u001b[32m--> \u001b[39m\u001b[32m133\u001b[39m dtype, fill_value, mask_info = \u001b[43m_take_preprocess_indexer_and_fill_value\u001b[49m\u001b[43m(\u001b[49m\n\u001b[32m    134\u001b[39m \u001b[43m    \u001b[49m\u001b[43marr\u001b[49m\u001b[43m,\u001b[49m\u001b[43m \u001b[49m\u001b[43mindexer\u001b[49m\u001b[43m,\u001b[49m\u001b[43m \u001b[49m\u001b[43mfill_value\u001b[49m\u001b[43m,\u001b[49m\u001b[43m \u001b[49m\u001b[43mallow_fill\u001b[49m\n\u001b[32m    135\u001b[39m \u001b[43m\u001b[49m\u001b[43m)\u001b[49m\n\u001b[32m    137\u001b[39m flip_order = \u001b[38;5;28;01mFalse\u001b[39;00m\n\u001b[32m    138\u001b[39m \u001b[38;5;28;01mif\u001b[39;00m arr.ndim == \u001b[32m2\u001b[39m \u001b[38;5;129;01mand\u001b[39;00m arr.flags.f_contiguous:\n",
      "\u001b[36mFile \u001b[39m\u001b[32m~/Desktop/venv/lib/python3.12/site-packages/pandas/core/array_algos/take.py:586\u001b[39m, in \u001b[36m_take_preprocess_indexer_and_fill_value\u001b[39m\u001b[34m(arr, indexer, fill_value, allow_fill, mask)\u001b[39m\n\u001b[32m    584\u001b[39m \u001b[38;5;28;01melse\u001b[39;00m:\n\u001b[32m    585\u001b[39m     mask = indexer == -\u001b[32m1\u001b[39m\n\u001b[32m--> \u001b[39m\u001b[32m586\u001b[39m     needs_masking = \u001b[38;5;28mbool\u001b[39m(\u001b[43mmask\u001b[49m\u001b[43m.\u001b[49m\u001b[43many\u001b[49m\u001b[43m(\u001b[49m\u001b[43m)\u001b[49m)\n\u001b[32m    587\u001b[39m mask_info = mask, needs_masking\n\u001b[32m    588\u001b[39m \u001b[38;5;28;01mif\u001b[39;00m \u001b[38;5;129;01mnot\u001b[39;00m needs_masking:\n\u001b[32m    589\u001b[39m     \u001b[38;5;66;03m# if not, then depromote, set fill_value to dummy\u001b[39;00m\n\u001b[32m    590\u001b[39m     \u001b[38;5;66;03m# (it won't be used but we don't want the cython code\u001b[39;00m\n\u001b[32m    591\u001b[39m     \u001b[38;5;66;03m# to crash when trying to cast it to dtype)\u001b[39;00m\n",
      "\u001b[36mFile \u001b[39m\u001b[32m~/Desktop/venv/lib/python3.12/site-packages/numpy/_core/_methods.py:64\u001b[39m, in \u001b[36m_any\u001b[39m\u001b[34m(a, axis, dtype, out, keepdims, where)\u001b[39m\n\u001b[32m     62\u001b[39m \u001b[38;5;66;03m# Parsing keyword arguments is currently fairly slow, so avoid it for now\u001b[39;00m\n\u001b[32m     63\u001b[39m \u001b[38;5;28;01mif\u001b[39;00m where \u001b[38;5;129;01mis\u001b[39;00m \u001b[38;5;28;01mTrue\u001b[39;00m:\n\u001b[32m---> \u001b[39m\u001b[32m64\u001b[39m     \u001b[38;5;28;01mreturn\u001b[39;00m \u001b[43mumr_any\u001b[49m\u001b[43m(\u001b[49m\u001b[43ma\u001b[49m\u001b[43m,\u001b[49m\u001b[43m \u001b[49m\u001b[43maxis\u001b[49m\u001b[43m,\u001b[49m\u001b[43m \u001b[49m\u001b[43mdtype\u001b[49m\u001b[43m,\u001b[49m\u001b[43m \u001b[49m\u001b[43mout\u001b[49m\u001b[43m,\u001b[49m\u001b[43m \u001b[49m\u001b[43mkeepdims\u001b[49m\u001b[43m)\u001b[49m\n\u001b[32m     65\u001b[39m \u001b[38;5;28;01mreturn\u001b[39;00m umr_any(a, axis, dtype, out, keepdims, where=where)\n",
      "\u001b[31mKeyboardInterrupt\u001b[39m: "
     ]
    }
   ],
   "source": [
    "def parse_impression_stats(imp_str):\n",
    "    items = imp_str.split()\n",
    "    total = len(items)\n",
    "    clicks = sum(int(i.split('-')[1]) for i in items)\n",
    "    return pd.Series([total, clicks])\n",
    "\n",
    "behaviors_df[['total_impressions', 'clicks']] = behaviors_df['impressions'].apply(parse_impression_stats)\n",
    "behaviors_df[['total_impressions', 'clicks']].describe()\n"
   ]
  },
  {
   "cell_type": "code",
   "execution_count": 10,
   "id": "c03274b3",
   "metadata": {},
   "outputs": [
    {
     "name": "stdout",
     "output_type": "stream",
     "text": [
      "<class 'pandas.core.frame.DataFrame'>\n",
      "RangeIndex: 101527 entries, 0 to 101526\n",
      "Data columns (total 8 columns):\n",
      " #   Column             Non-Null Count   Dtype \n",
      "---  ------             --------------   ----- \n",
      " 0   news_id            101527 non-null  object\n",
      " 1   category           101527 non-null  object\n",
      " 2   subcategory        101527 non-null  object\n",
      " 3   title              101527 non-null  object\n",
      " 4   abstract           96112 non-null   object\n",
      " 5   url                101527 non-null  object\n",
      " 6   title_entities     101524 non-null  object\n",
      " 7   abstract_entities  101521 non-null  object\n",
      "dtypes: object(8)\n",
      "memory usage: 6.2+ MB\n",
      "None\n",
      "  news_id   category               subcategory  \\\n",
      "0  N88753  lifestyle           lifestyleroyals   \n",
      "1  N45436       news  newsscienceandtechnology   \n",
      "2  N23144     health                weightloss   \n",
      "3  N86255     health                   medical   \n",
      "4  N93187       news                 newsworld   \n",
      "\n",
      "                                               title  \\\n",
      "0  The Brands Queen Elizabeth, Prince Charles, an...   \n",
      "1    Walmart Slashes Prices on Last-Generation iPads   \n",
      "2                      50 Worst Habits For Belly Fat   \n",
      "3  Dispose of unwanted prescription drugs during ...   \n",
      "4  The Cost of Trump's Aid Freeze in the Trenches...   \n",
      "\n",
      "                                            abstract  \\\n",
      "0  Shop the notebooks, jackets, and more that the...   \n",
      "1  Apple's new iPad releases bring big deals on l...   \n",
      "2  These seemingly harmless habits are holding yo...   \n",
      "3                                                NaN   \n",
      "4  Lt. Ivan Molchanets peeked over a parapet of s...   \n",
      "\n",
      "                                             url  \\\n",
      "0  https://assets.msn.com/labs/mind/AAGH0ET.html   \n",
      "1  https://assets.msn.com/labs/mind/AABmf2I.html   \n",
      "2  https://assets.msn.com/labs/mind/AAB19MK.html   \n",
      "3  https://assets.msn.com/labs/mind/AAISxPN.html   \n",
      "4  https://assets.msn.com/labs/mind/AAJgNsz.html   \n",
      "\n",
      "                                      title_entities  \\\n",
      "0  [{\"Label\": \"Prince Philip, Duke of Edinburgh\",...   \n",
      "1  [{\"Label\": \"IPad\", \"Type\": \"J\", \"WikidataId\": ...   \n",
      "2  [{\"Label\": \"Adipose tissue\", \"Type\": \"C\", \"Wik...   \n",
      "3  [{\"Label\": \"Drug Enforcement Administration\", ...   \n",
      "4                                                 []   \n",
      "\n",
      "                                   abstract_entities  \n",
      "0                                                 []  \n",
      "1  [{\"Label\": \"IPad\", \"Type\": \"J\", \"WikidataId\": ...  \n",
      "2  [{\"Label\": \"Adipose tissue\", \"Type\": \"C\", \"Wik...  \n",
      "3                                                 []  \n",
      "4  [{\"Label\": \"Ukraine\", \"Type\": \"G\", \"WikidataId...  \n"
     ]
    }
   ],
   "source": [
    "# See structure\n",
    "print(news_df.info())\n",
    "print(news_df.head())"
   ]
  },
  {
   "cell_type": "code",
   "execution_count": null,
   "id": "ed7a4134",
   "metadata": {},
   "outputs": [
    {
     "name": "stdout",
     "output_type": "stream",
     "text": [
      "shape: 101527 101527\n",
      "\n",
      "Missing values in news_df:\n",
      "news_id                 0\n",
      "category                0\n",
      "subcategory             0\n",
      "title                   0\n",
      "abstract             5415\n",
      "url                     0\n",
      "title_entities          3\n",
      "abstract_entities       6\n",
      "dtype: int64\n"
     ]
    }
   ],
   "source": [
    "print(\"shape:\", news_df['news_id'].nunique(), news_df.shape[0])\n",
    "# Check for missing values in news_df   \n",
    "print(\"\\nMissing values in news_df:\")\n",
    "print(news_df.isnull().sum())\n"
   ]
  },
  {
   "cell_type": "code",
   "execution_count": null,
   "id": "a067b049",
   "metadata": {},
   "outputs": [
    {
     "data": {
      "text/plain": [
       "np.float64(0.7490322771282516)"
      ]
     },
     "execution_count": 12,
     "metadata": {},
     "output_type": "execute_result"
    }
   ],
   "source": [
    "news_df['category'].value_counts()\n",
    "news_df['subcategory'].value_counts()\n",
    "\n",
    "news_df['title_len'] = news_df['title'].fillna('').apply(lambda x: len(x.split()))\n",
    "news_df['abstract_len'] = news_df['abstract'].fillna('').apply(lambda x: len(x.split()))\n",
    "\n",
    "news_df[['title_len', 'abstract_len']].describe()\n",
    "\n",
    "news_df['title_entities'].apply(lambda x: x != '[]').mean()\n",
    "news_df['abstract_entities'].apply(lambda x: x != '[]').mean()\n"
   ]
  },
  {
   "cell_type": "code",
   "execution_count": null,
   "id": "2589098d",
   "metadata": {},
   "outputs": [
    {
     "name": "stderr",
     "output_type": "stream",
     "text": [
      "/var/folders/z9/3mkdppv93j12cykw28m502s40000gn/T/ipykernel_40091/3438411334.py:16: UserWarning: Glyph 128467 (\\N{SPIRAL CALENDAR PAD}) missing from font(s) DejaVu Sans.\n",
      "  plt.tight_layout()\n",
      "/Users/swayamdesai/Desktop/venv/lib/python3.12/site-packages/IPython/core/pylabtools.py:170: UserWarning: Glyph 128467 (\\N{SPIRAL CALENDAR PAD}) missing from font(s) DejaVu Sans.\n",
      "  fig.canvas.print_figure(bytes_io, **kw)\n"
     ]
    },
    {
     "data": {
      "image/png": "[encoded data removed]",
      "text/plain": [
       "<Figure size 1200x500 with 1 Axes>"
      ]
     },
     "metadata": {},
     "output_type": "display_data"
    }
   ],
   "source": [
    "import matplotlib.pyplot as plt\n",
    "import seaborn as sns\n",
    "# Group by date only (drop hour info)\n",
    "behaviors_df['date'] = behaviors_df['timestamp'].dt.date\n",
    "\n",
    "# Count impressions per day\n",
    "daily_counts = behaviors_df['date'].value_counts().sort_index()\n",
    "\n",
    "# Plot\n",
    "plt.figure(figsize=(12, 5))\n",
    "sns.lineplot(x=daily_counts.index, y=daily_counts.values)\n",
    "plt.xticks(rotation=45)\n",
    "plt.title(\"🗓️ Number of Impressions per Day\")\n",
    "plt.xlabel(\"Date\")\n",
    "plt.ylabel(\"Number of Impressions\")\n",
    "plt.tight_layout()\n",
    "plt.show()\n"
   ]
  },
  {
   "cell_type": "code",
   "execution_count": 14,
   "id": "cdb407f5",
   "metadata": {},
   "outputs": [
    {
     "name": "stderr",
     "output_type": "stream",
     "text": [
      "/var/folders/z9/3mkdppv93j12cykw28m502s40000gn/T/ipykernel_40091/2980686604.py:5: FutureWarning: \n",
      "\n",
      "Passing `palette` without assigning `hue` is deprecated and will be removed in v0.14.0. Assign the `x` variable to `hue` and set `legend=False` for the same effect.\n",
      "\n",
      "  sns.countplot(x='hour', data=behaviors_df, palette='viridis')\n",
      "/var/folders/z9/3mkdppv93j12cykw28m502s40000gn/T/ipykernel_40091/2980686604.py:9: UserWarning: Glyph 128338 (\\N{CLOCK FACE THREE OCLOCK}) missing from font(s) DejaVu Sans.\n",
      "  plt.tight_layout()\n",
      "/Users/swayamdesai/Desktop/venv/lib/python3.12/site-packages/IPython/core/pylabtools.py:170: UserWarning: Glyph 128338 (\\N{CLOCK FACE THREE OCLOCK}) missing from font(s) DejaVu Sans.\n",
      "  fig.canvas.print_figure(bytes_io, **kw)\n"
     ]
    },
    {
     "data": {
      "image/png": "[encoded data removed]",
      "text/plain": [
       "<Figure size 1000x400 with 1 Axes>"
      ]
     },
     "metadata": {},
     "output_type": "display_data"
    }
   ],
   "source": [
    "behaviors_df['hour'] = behaviors_df['timestamp'].dt.hour\n",
    "\n",
    "# Plot histogram of hours\n",
    "plt.figure(figsize=(10, 4))\n",
    "sns.countplot(x='hour', data=behaviors_df, palette='viridis')\n",
    "plt.title(\"🕒 Number of Impressions by Hour of Day\")\n",
    "plt.xlabel(\"Hour\")\n",
    "plt.ylabel(\"Impressions\")\n",
    "plt.tight_layout()\n",
    "plt.show()\n"
   ]
  },
  {
   "cell_type": "code",
   "execution_count": 15,
   "id": "313cd5ca",
   "metadata": {},
   "outputs": [
    {
     "name": "stderr",
     "output_type": "stream",
     "text": [
      "/var/folders/z9/3mkdppv93j12cykw28m502s40000gn/T/ipykernel_40091/2924549578.py:11: FutureWarning: \n",
      "\n",
      "Passing `palette` without assigning `hue` is deprecated and will be removed in v0.14.0. Assign the `x` variable to `hue` and set `legend=False` for the same effect.\n",
      "\n",
      "  sns.barplot(data=behaviors_df[['num_clicks', 'num_noclicks']].sum().reset_index(), x='index', y=0, palette='coolwarm')\n",
      "/var/folders/z9/3mkdppv93j12cykw28m502s40000gn/T/ipykernel_40091/2924549578.py:15: UserWarning: Glyph 128433 (\\N{THREE BUTTON MOUSE}) missing from font(s) DejaVu Sans.\n",
      "  plt.tight_layout()\n",
      "/Users/swayamdesai/Desktop/venv/lib/python3.12/site-packages/IPython/core/pylabtools.py:170: UserWarning: Glyph 128433 (\\N{THREE BUTTON MOUSE}) missing from font(s) DejaVu Sans.\n",
      "  fig.canvas.print_figure(bytes_io, **kw)\n"
     ]
    },
    {
     "data": {
      "image/png": "[encoded data removed]",
      "text/plain": [
       "<Figure size 600x400 with 1 Axes>"
      ]
     },
     "metadata": {},
     "output_type": "display_data"
    }
   ],
   "source": [
    "def count_clicks_nonclicks(imp_str):\n",
    "    items = imp_str.split()\n",
    "    clicks = sum(1 for i in items if i.endswith('-1'))\n",
    "    nonclicks = sum(1 for i in items if i.endswith('-0'))\n",
    "    return pd.Series([clicks, nonclicks])\n",
    "\n",
    "behaviors_df[['num_clicks', 'num_noclicks']] = behaviors_df['impressions'].apply(count_clicks_nonclicks)\n",
    "\n",
    "# Plot\n",
    "plt.figure(figsize=(6, 4))\n",
    "sns.barplot(data=behaviors_df[['num_clicks', 'num_noclicks']].sum().reset_index(), x='index', y=0, palette='coolwarm')\n",
    "plt.title(\"🖱️ Total Clicks vs. Non-Clicks\")\n",
    "plt.xlabel(\"Type\")\n",
    "plt.ylabel(\"Count\")\n",
    "plt.tight_layout()\n",
    "plt.show()\n"
   ]
  },
  {
   "cell_type": "code",
   "execution_count": 16,
   "id": "7b9ad7e4",
   "metadata": {},
   "outputs": [
    {
     "name": "stderr",
     "output_type": "stream",
     "text": [
      "/var/folders/z9/3mkdppv93j12cykw28m502s40000gn/T/ipykernel_40091/3669213594.py:12: UserWarning: Glyph 128293 (\\N{FIRE}) missing from font(s) DejaVu Sans.\n",
      "  plt.tight_layout()\n",
      "/Users/swayamdesai/Desktop/venv/lib/python3.12/site-packages/IPython/core/pylabtools.py:170: UserWarning: Glyph 128293 (\\N{FIRE}) missing from font(s) DejaVu Sans.\n",
      "  fig.canvas.print_figure(bytes_io, **kw)\n"
     ]
    },
    {
     "data": {
      "image/png": "[encoded data removed]",
      "text/plain": [
       "<Figure size 1400x600 with 2 Axes>"
      ]
     },
     "metadata": {},
     "output_type": "display_data"
    }
   ],
   "source": [
    "# Take top 100 most active users\n",
    "top_users = behaviors_df['user_id'].value_counts().head(100).index\n",
    "\n",
    "subset = behaviors_df[behaviors_df['user_id'].isin(top_users)]\n",
    "heatmap_df = subset.groupby(['user_id', 'hour']).size().unstack(fill_value=0)\n",
    "\n",
    "plt.figure(figsize=(14, 6))\n",
    "sns.heatmap(heatmap_df, cmap=\"YlGnBu\", linewidths=0.5)\n",
    "plt.title(\"🔥 User Activity Heatmap (Top 100 Users)\")\n",
    "plt.xlabel(\"Hour of Day\")\n",
    "plt.ylabel(\"User ID\")\n",
    "plt.tight_layout()\n",
    "plt.show()\n"
   ]
  },
  {
   "cell_type": "code",
   "execution_count": 17,
   "id": "5593376f",
   "metadata": {},
   "outputs": [
    {
     "name": "stderr",
     "output_type": "stream",
     "text": [
      "/var/folders/z9/3mkdppv93j12cykw28m502s40000gn/T/ipykernel_40091/1328633473.py:12: UserWarning: Glyph 128202 (\\N{BAR CHART}) missing from font(s) DejaVu Sans.\n",
      "  plt.tight_layout()\n",
      "/Users/swayamdesai/Desktop/venv/lib/python3.12/site-packages/IPython/core/pylabtools.py:170: UserWarning: Glyph 128202 (\\N{BAR CHART}) missing from font(s) DejaVu Sans.\n",
      "  fig.canvas.print_figure(bytes_io, **kw)\n"
     ]
    },
    {
     "data": {
      "image/png": "[encoded data removed]",
      "text/plain": [
       "<Figure size 1000x400 with 1 Axes>"
      ]
     },
     "metadata": {},
     "output_type": "display_data"
    }
   ],
   "source": [
    "# Total impressions & clicks by hour\n",
    "hourly = behaviors_df.groupby('hour')[['num_clicks', 'num_noclicks']].sum()\n",
    "hourly['ctr'] = hourly['num_clicks'] / (hourly['num_clicks'] + hourly['num_noclicks'])\n",
    "\n",
    "# Plot\n",
    "plt.figure(figsize=(10, 4))\n",
    "sns.lineplot(data=hourly, x=hourly.index, y='ctr', marker='o')\n",
    "plt.title(\"📊 CTR by Hour of Day\")\n",
    "plt.xlabel(\"Hour\")\n",
    "plt.ylabel(\"Click-Through Rate\")\n",
    "plt.grid(True)\n",
    "plt.tight_layout()\n",
    "plt.show()\n"
   ]
  },
  {
   "cell_type": "code",
   "execution_count": null,
   "id": "5112832f",
   "metadata": {},
   "outputs": [
    {
     "name": "stderr",
     "output_type": "stream",
     "text": [
      " 85%|████████▌ | 1904361/2232748 [01:11<00:12, 26778.58it/s]\n"
     ]
    },
    {
     "ename": "KeyboardInterrupt",
     "evalue": "",
     "output_type": "error",
     "traceback": [
      "\u001b[31m---------------------------------------------------------------------------\u001b[39m",
      "\u001b[31mKeyboardInterrupt\u001b[39m                         Traceback (most recent call last)",
      "\u001b[36mCell\u001b[39m\u001b[36m \u001b[39m\u001b[32mIn[18]\u001b[39m\u001b[32m, line 23\u001b[39m\n\u001b[32m     20\u001b[39m     \u001b[38;5;28;01mfor\u001b[39;00m pair \u001b[38;5;129;01min\u001b[39;00m row[\u001b[33m'\u001b[39m\u001b[33mimpressions\u001b[39m\u001b[33m'\u001b[39m].split():\n\u001b[32m     21\u001b[39m         news_id, label = pair.split(\u001b[33m'\u001b[39m\u001b[33m-\u001b[39m\u001b[33m'\u001b[39m)\n\u001b[32m     22\u001b[39m         exploded_rows.append({\n\u001b[32m---> \u001b[39m\u001b[32m23\u001b[39m             \u001b[33m'\u001b[39m\u001b[33muser_id\u001b[39m\u001b[33m'\u001b[39m: \u001b[43mrow\u001b[49m\u001b[43m[\u001b[49m\u001b[33;43m'\u001b[39;49m\u001b[33;43muser_id\u001b[39;49m\u001b[33;43m'\u001b[39;49m\u001b[43m]\u001b[49m,\n\u001b[32m     24\u001b[39m             \u001b[33m'\u001b[39m\u001b[33mnews_id\u001b[39m\u001b[33m'\u001b[39m: news_id,\n\u001b[32m     25\u001b[39m             \u001b[33m'\u001b[39m\u001b[33mclicked\u001b[39m\u001b[33m'\u001b[39m: \u001b[38;5;28mint\u001b[39m(label)\n\u001b[32m     26\u001b[39m         })\n\u001b[32m     28\u001b[39m exploded_df = pd.DataFrame(exploded_rows)\n\u001b[32m     30\u001b[39m \u001b[38;5;66;03m# === Step 4: Merge with news_df to get categories ===\u001b[39;00m\n",
      "\u001b[36mFile \u001b[39m\u001b[32m~/Desktop/venv/lib/python3.12/site-packages/pandas/core/series.py:1121\u001b[39m, in \u001b[36mSeries.__getitem__\u001b[39m\u001b[34m(self, key)\u001b[39m\n\u001b[32m   1118\u001b[39m     \u001b[38;5;28;01mreturn\u001b[39;00m \u001b[38;5;28mself\u001b[39m._values[key]\n\u001b[32m   1120\u001b[39m \u001b[38;5;28;01melif\u001b[39;00m key_is_scalar:\n\u001b[32m-> \u001b[39m\u001b[32m1121\u001b[39m     \u001b[38;5;28;01mreturn\u001b[39;00m \u001b[38;5;28;43mself\u001b[39;49m\u001b[43m.\u001b[49m\u001b[43m_get_value\u001b[49m\u001b[43m(\u001b[49m\u001b[43mkey\u001b[49m\u001b[43m)\u001b[49m\n\u001b[32m   1123\u001b[39m \u001b[38;5;66;03m# Convert generator to list before going through hashable part\u001b[39;00m\n\u001b[32m   1124\u001b[39m \u001b[38;5;66;03m# (We will iterate through the generator there to check for slices)\u001b[39;00m\n\u001b[32m   1125\u001b[39m \u001b[38;5;28;01mif\u001b[39;00m is_iterator(key):\n",
      "\u001b[36mFile \u001b[39m\u001b[32m~/Desktop/venv/lib/python3.12/site-packages/pandas/core/series.py:1237\u001b[39m, in \u001b[36mSeries._get_value\u001b[39m\u001b[34m(self, label, takeable)\u001b[39m\n\u001b[32m   1234\u001b[39m     \u001b[38;5;28;01mreturn\u001b[39;00m \u001b[38;5;28mself\u001b[39m._values[label]\n\u001b[32m   1236\u001b[39m \u001b[38;5;66;03m# Similar to Index.get_value, but we do not fall back to positional\u001b[39;00m\n\u001b[32m-> \u001b[39m\u001b[32m1237\u001b[39m loc = \u001b[38;5;28;43mself\u001b[39;49m\u001b[43m.\u001b[49m\u001b[43mindex\u001b[49m\u001b[43m.\u001b[49m\u001b[43mget_loc\u001b[49m\u001b[43m(\u001b[49m\u001b[43mlabel\u001b[49m\u001b[43m)\u001b[49m\n\u001b[32m   1239\u001b[39m \u001b[38;5;28;01mif\u001b[39;00m is_integer(loc):\n\u001b[32m   1240\u001b[39m     \u001b[38;5;28;01mreturn\u001b[39;00m \u001b[38;5;28mself\u001b[39m._values[loc]\n",
      "\u001b[36mFile \u001b[39m\u001b[32m~/Desktop/venv/lib/python3.12/site-packages/pandas/core/indexes/base.py:3805\u001b[39m, in \u001b[36mIndex.get_loc\u001b[39m\u001b[34m(self, key)\u001b[39m\n\u001b[32m   3803\u001b[39m casted_key = \u001b[38;5;28mself\u001b[39m._maybe_cast_indexer(key)\n\u001b[32m   3804\u001b[39m \u001b[38;5;28;01mtry\u001b[39;00m:\n\u001b[32m-> \u001b[39m\u001b[32m3805\u001b[39m     \u001b[38;5;28;01mreturn\u001b[39;00m \u001b[38;5;28;43mself\u001b[39;49m\u001b[43m.\u001b[49m\u001b[43m_engine\u001b[49m\u001b[43m.\u001b[49m\u001b[43mget_loc\u001b[49m\u001b[43m(\u001b[49m\u001b[43mcasted_key\u001b[49m\u001b[43m)\u001b[49m\n\u001b[32m   3806\u001b[39m \u001b[38;5;28;01mexcept\u001b[39;00m \u001b[38;5;167;01mKeyError\u001b[39;00m \u001b[38;5;28;01mas\u001b[39;00m err:\n\u001b[32m   3807\u001b[39m     \u001b[38;5;28;01mif\u001b[39;00m \u001b[38;5;28misinstance\u001b[39m(casted_key, \u001b[38;5;28mslice\u001b[39m) \u001b[38;5;129;01mor\u001b[39;00m (\n\u001b[32m   3808\u001b[39m         \u001b[38;5;28misinstance\u001b[39m(casted_key, abc.Iterable)\n\u001b[32m   3809\u001b[39m         \u001b[38;5;129;01mand\u001b[39;00m \u001b[38;5;28many\u001b[39m(\u001b[38;5;28misinstance\u001b[39m(x, \u001b[38;5;28mslice\u001b[39m) \u001b[38;5;28;01mfor\u001b[39;00m x \u001b[38;5;129;01min\u001b[39;00m casted_key)\n\u001b[32m   3810\u001b[39m     ):\n",
      "\u001b[31mKeyboardInterrupt\u001b[39m: "
     ]
    }
   ],
   "source": [
    "import pandas as pd\n",
    "import seaborn as sns\n",
    "import matplotlib.pyplot as plt\n",
    "from tqdm import tqdm\n",
    "\n",
    "# === Step 1: Load behaviors.tsv ===\n",
    "behaviors_df = pd.read_table(\"/Users/swayamdesai/Downloads/MINDlarge_train/behaviors.tsv\", header=None,\n",
    "    names=[\"impression_id\", \"user_id\", \"timestamp\", \"history\", \"impressions\"])\n",
    "\n",
    "# === Step 2: Load news.tsv (your provided path) ===\n",
    "news_df = pd.read_table(\"/Users/swayamdesai/Downloads/MINDlarge_train/news.tsv\", header=None,\n",
    "    names=[\"news_id\", \"category\", \"subcategory\", \"title\", \"abstract\", \"url\", \"title_entities\", \"abstract_entities\"])\n",
    "news_df = news_df[['news_id', 'category']]\n",
    "\n",
    "# === Step 3: Explode impressions into rows ===\n",
    "tqdm.pandas()\n",
    "\n",
    "exploded_rows = []\n",
    "for _, row in tqdm(behaviors_df.iterrows(), total=behaviors_df.shape[0]):\n",
    "    for pair in row['impressions'].split():\n",
    "        news_id, label = pair.split('-')\n",
    "        exploded_rows.append({\n",
    "            'user_id': row['user_id'],\n",
    "            'news_id': news_id,\n",
    "            'clicked': int(label)\n",
    "        })\n",
    "\n",
    "exploded_df = pd.DataFrame(exploded_rows)\n",
    "\n",
    "# === Step 4: Merge with news_df to get categories ===\n",
    "merged_df = exploded_df.merge(news_df, on='news_id', how='left')\n",
    "\n",
    "# === Step 5: Calculate CTR by category ===\n",
    "category_ctr = merged_df.groupby('category')['clicked'].agg(['count', 'sum'])\n",
    "category_ctr['ctr'] = category_ctr['sum'] / category_ctr['count']\n",
    "category_ctr = category_ctr.sort_values('ctr', ascending=False).reset_index()\n",
    "\n",
    "# === Step 6: Plot CTR by category ===\n",
    "plt.figure(figsize=(10, 5))\n",
    "sns.barplot(data=category_ctr, x='category', y='ctr', palette='crest')\n",
    "plt.title(\"📈 CTR by News Category\")\n",
    "plt.ylabel(\"Click-Through Rate\")\n",
    "plt.xlabel(\"Category\")\n",
    "plt.xticks(rotation=45)\n",
    "plt.tight_layout()\n",
    "plt.show()\n"
   ]
  },
  {
   "cell_type": "code",
   "execution_count": null,
   "id": "fcbc9ee4",
   "metadata": {},
   "outputs": [
    {
     "name": "stderr",
     "output_type": "stream",
     "text": [
      "100%|██████████| 2232748/2232748 [02:09<00:00, 17197.03it/s]\n",
      "/var/folders/z9/3mkdppv93j12cykw28m502s40000gn/T/ipykernel_3857/3084923454.py:40: FutureWarning: \n",
      "\n",
      "Passing `palette` without assigning `hue` is deprecated and will be removed in v0.14.0. Assign the `y` variable to `hue` and set `legend=False` for the same effect.\n",
      "\n",
      "  sns.barplot(data=subcat_ctr.head(20), x='ctr', y='subcategory', palette='mako')  # top 20 for readability\n",
      "/var/folders/z9/3mkdppv93j12cykw28m502s40000gn/T/ipykernel_3857/3084923454.py:44: UserWarning: Glyph 128200 (\\N{CHART WITH UPWARDS TREND}) missing from font(s) DejaVu Sans.\n",
      "  plt.tight_layout()\n",
      "/Users/swayamdesai/Desktop/venv/lib/python3.12/site-packages/IPython/core/pylabtools.py:170: UserWarning: Glyph 128200 (\\N{CHART WITH UPWARDS TREND}) missing from font(s) DejaVu Sans.\n",
      "  fig.canvas.print_figure(bytes_io, **kw)\n"
     ]
    },
    {
     "data": {
      "image/png": "[encoded data removed]",
      "text/plain": [
       "<Figure size 1200x600 with 1 Axes>"
      ]
     },
     "metadata": {},
     "output_type": "display_data"
    }
   ],
   "source": [
    "import pandas as pd\n",
    "import seaborn as sns\n",
    "import matplotlib.pyplot as plt\n",
    "from tqdm import tqdm\n",
    "\n",
    "# === Step 1: Load behaviors.tsv ===\n",
    "behaviors_df = pd.read_table(\"/Users/swayamdesai/Downloads/MINDlarge_train/behaviors.tsv\", header=None,\n",
    "    names=[\"impression_id\", \"user_id\", \"timestamp\", \"history\", \"impressions\"])\n",
    "\n",
    "# === Step 2: Load news.tsv with subcategories ===\n",
    "news_df = pd.read_table(\"/Users/swayamdesai/Downloads/MINDlarge_train/news.tsv\", header=None,\n",
    "    names=[\"news_id\", \"category\", \"subcategory\", \"title\", \"abstract\", \"url\", \"title_entities\", \"abstract_entities\"])\n",
    "news_df = news_df[['news_id', 'subcategory']]\n",
    "\n",
    "# === Step 3: Explode impressions into rows ===\n",
    "tqdm.pandas()\n",
    "\n",
    "exploded_rows = []\n",
    "for _, row in tqdm(behaviors_df.iterrows(), total=behaviors_df.shape[0]):\n",
    "    for pair in row['impressions'].split():\n",
    "        news_id, label = pair.split('-')\n",
    "        exploded_rows.append({\n",
    "            'user_id': row['user_id'],\n",
    "            'news_id': news_id,\n",
    "            'clicked': int(label)\n",
    "        })\n",
    "\n",
    "exploded_df = pd.DataFrame(exploded_rows)\n",
    "\n",
    "# === Step 4: Merge with news_df to get subcategories ===\n",
    "merged_df = exploded_df.merge(news_df, on='news_id', how='left')\n",
    "\n",
    "# === Step 5: Calculate CTR by subcategory ===\n",
    "subcat_ctr = merged_df.groupby('subcategory')['clicked'].agg(['count', 'sum'])\n",
    "subcat_ctr['ctr'] = subcat_ctr['sum'] / subcat_ctr['count']\n",
    "subcat_ctr = subcat_ctr.sort_values('ctr', ascending=False).reset_index()\n",
    "\n",
    "# === Step 6: Plot CTR by subcategory ===\n",
    "plt.figure(figsize=(12, 6))\n",
    "sns.barplot(data=subcat_ctr.head(20), x='ctr', y='subcategory', palette='mako')  # top 20 for readability\n",
    "plt.title(\"📈 CTR by News Subcategory\")\n",
    "plt.xlabel(\"Click-Through Rate\")\n",
    "plt.ylabel(\"Subcategory\")\n",
    "plt.tight_layout()\n",
    "plt.show()\n"
   ]
  },
  {
   "cell_type": "code",
   "execution_count": 10,
   "id": "751e427f",
   "metadata": {},
   "outputs": [
    {
     "data": {
      "text/plain": [
       "0          None\n",
       "1          None\n",
       "2          None\n",
       "3          None\n",
       "4          None\n",
       "           ... \n",
       "2232743    None\n",
       "2232744    None\n",
       "2232745    None\n",
       "2232746    None\n",
       "2232747    None\n",
       "Length: 2232748, dtype: object"
      ]
     },
     "execution_count": 10,
     "metadata": {},
     "output_type": "execute_result"
    }
   ],
   "source": [
    "interactions = []\n",
    "\n",
    "def parse_impressions(row):\n",
    "    user = row['user_id']\n",
    "    for item in row['impressions'].split():\n",
    "        nid, clicked = item.split('-')\n",
    "        interactions.append((user, nid, int(clicked)))\n",
    "\n",
    "behaviors_df.apply(parse_impressions, axis=1)"
   ]
  },
  {
   "cell_type": "code",
   "execution_count": 14,
   "id": "586655ad",
   "metadata": {},
   "outputs": [],
   "source": [
    "interactions_df = pd.DataFrame(interactions, columns=['user_id', 'news_id', 'clicked'])"
   ]
  },
  {
   "cell_type": "markdown",
   "id": "8943fdec",
   "metadata": {},
   "source": [
    "User based collaborative filtering"
   ]
  },
  {
   "cell_type": "code",
   "execution_count": 15,
   "id": "a1835997",
   "metadata": {},
   "outputs": [
    {
     "name": "stdout",
     "output_type": "stream",
     "text": [
      "Sampled Data Shape: (71310983, 3)\n",
      "Sampled Data Shape: (19518089, 3)\n"
     ]
    }
   ],
   "source": [
    "sampled_df=interactions_df.drop_duplicates(subset=['user_id', 'news_id'], keep='last')\n",
    "print(f\"Sampled Data Shape: {sampled_df.shape}\")\n",
    "\n",
    "top_users = sampled_df['user_id'].value_counts().head(50000).index\n",
    "sampled_df = sampled_df[sampled_df['user_id'].isin(top_users)]\n",
    "print(f\"Sampled Data Shape: {sampled_df.shape}\")"
   ]
  },
  {
   "cell_type": "code",
   "execution_count": 16,
   "id": "d355a778",
   "metadata": {},
   "outputs": [
    {
     "name": "stdout",
     "output_type": "stream",
     "text": [
      "User-Item Matrix Shape: (50000, 25098)\n"
     ]
    }
   ],
   "source": [
    "user_item_matrix = sampled_df.pivot(index='user_id', columns='news_id', values='clicked').fillna(0)\n",
    "print(f\"User-Item Matrix Shape: {user_item_matrix.shape}\")"
   ]
  },
  {
   "cell_type": "code",
   "execution_count": 17,
   "id": "a02907c2",
   "metadata": {},
   "outputs": [],
   "source": [
    "from sklearn.metrics.pairwise import cosine_similarity\n",
    "\n",
    "from scipy.sparse import csr_matrix\n",
    "sparse_matrix = csr_matrix(user_item_matrix.values)\n",
    "\n",
    "user_similarity = cosine_similarity(sparse_matrix)"
   ]
  },
  {
   "cell_type": "code",
   "execution_count": 18,
   "id": "5255b8ce",
   "metadata": {},
   "outputs": [],
   "source": [
    "import numpy as np\n",
    "\n",
    "user_index = user_item_matrix.index\n",
    "\n",
    "def recommend_for_users(user_id, top_n=5):\n",
    "    if user_id not in user_index:\n",
    "        print(f\"User {user_id} not found.\")\n",
    "        return pd\n",
    "    \n",
    "    user_idx = np.where(user_index == user_id)[0][0]\n",
    "\n",
    "    #get most similar users\n",
    "    sim_scores=list(enumerate(user_similarity[user_idx]))\n",
    "    sim_scores= sorted(sim_scores, key=lambda x: x[1], reverse=True)\n",
    "\n",
    "    #get top similar user\n",
    "    top_users=[i for i, _ in sim_scores[1: 11]]\n",
    "\n",
    "    #get average click scores for top similar users\n",
    "    similar_users_data= user_item_matrix.iloc[top_users]\n",
    "    mean_scores=similar_users_data.mean(axis=0)\n",
    "\n",
    "    #filter out articles which the user has alredy clicked on\n",
    "    user_clicked=user_item_matrix.loc[user_id]\n",
    "    unseen_scores=mean_scores[user_clicked==0]\n",
    "\n",
    "    #recmmend top N unseen articles\n",
    "    top_articles=unseen_scores.sort_values(ascending=False).head(top_n).index.tolist()\n",
    "    return news_df[news_df['news_id'].isin(top_articles)][['news_id', 'title', 'abstract']]\n",
    "\n"
   ]
  },
  {
   "cell_type": "code",
   "execution_count": 19,
   "id": "5747f3f4",
   "metadata": {},
   "outputs": [
    {
     "name": "stdout",
     "output_type": "stream",
     "text": [
      "['news_id', 'category', 'subcategory', 'title', 'abstract', 'url', 'title_entities', 'abstract_entities']\n"
     ]
    }
   ],
   "source": [
    "print(news_df.columns.tolist())\n"
   ]
  },
  {
   "cell_type": "code",
   "execution_count": 20,
   "id": "f492601c",
   "metadata": {},
   "outputs": [
    {
     "name": "stdout",
     "output_type": "stream",
     "text": [
      "Recommendations for User U100038:\n",
      "\n",
      "        news_id                                              title  \\\n",
      "78291   N104437  This Is The Moment A Senior Shelter Dog Knew H...   \n",
      "82005    N48015   Abandoned 'unicorn' puppy has a tail on its head   \n",
      "82686    N20040  NFL Playoff Projection: Raiders have a clear p...   \n",
      "83017    N41547       This is Chick-fil-A's most-ordered menu item   \n",
      "100508   N20990  The son of a Chinese billionaire has been bann...   \n",
      "\n",
      "                                                 abstract  \n",
      "78291   Finding happiness is no guarantee for pets awa...  \n",
      "82005    Abandoned 'unicorn' puppy has a tail on its head  \n",
      "82686                                                 NaN  \n",
      "83017   There may be a lot of things you don't know ab...  \n",
      "100508  Wang Sicong, the heir of Chinese real estate m...  \n"
     ]
    }
   ],
   "source": [
    "test_user = user_item_matrix.index[2]\n",
    "\n",
    "recommendations = recommend_for_users(test_user, top_n=5)\n",
    "print(f\"Recommendations for User {test_user}:\\n\")\n",
    "print(recommendations if not recommendations.empty else \"❌ No new articles to recommend.\")\n"
   ]
  },
  {
   "cell_type": "markdown",
   "id": "c59d9ff1",
   "metadata": {},
   "source": [
    "Item Based Collaborative Filtering"
   ]
  },
  {
   "cell_type": "code",
   "execution_count": 21,
   "id": "23c695f3",
   "metadata": {},
   "outputs": [
    {
     "name": "stderr",
     "output_type": "stream",
     "text": [
      "/Users/swayamdesai/Desktop/venv/lib/python3.12/site-packages/sklearn/utils/extmath.py:203: RuntimeWarning: divide by zero encountered in matmul\n",
      "  ret = a @ b\n",
      "/Users/swayamdesai/Desktop/venv/lib/python3.12/site-packages/sklearn/utils/extmath.py:203: RuntimeWarning: overflow encountered in matmul\n",
      "  ret = a @ b\n",
      "/Users/swayamdesai/Desktop/venv/lib/python3.12/site-packages/sklearn/utils/extmath.py:203: RuntimeWarning: invalid value encountered in matmul\n",
      "  ret = a @ b\n"
     ]
    }
   ],
   "source": [
    "from sklearn.metrics.pairwise import cosine_similarity\n",
    "\n",
    "#Transpose items so that items are rows\n",
    "item_item_matrix = cosine_similarity(user_item_matrix.T)\n",
    "\n",
    "item_index= user_item_matrix.columns"
   ]
  },
  {
   "cell_type": "code",
   "execution_count": 24,
   "id": "da106d1c",
   "metadata": {},
   "outputs": [],
   "source": [
    "import numpy as np\n",
    "\n",
    "def recommend_items_for_users(user_id, top_n=5):\n",
    "    if user_id not in user_index:\n",
    "        print(f\"User {user_id} not found.\")\n",
    "        return pd\n",
    "    \n",
    "    user_row = user_item_matrix.loc[user_id]\n",
    "\n",
    "    clicked_items = user_row[user_row > 0].index.tolist()\n",
    "\n",
    "    if not clicked_items:\n",
    "        print(f\"User {user_id} has not clicked on any items.\")\n",
    "        return pd\n",
    "    \n",
    "    sim_scores=np.zeros(len(item_item_matrix))\n",
    "    for item in clicked_items:\n",
    "        item_idx = np.where(item_index == item)[0][0]\n",
    "        sim_scores += item_item_matrix[item_idx]\n",
    "\n",
    "    for item in clicked_items:\n",
    "        item_idx = np.where(item_index == item)[0][0]\n",
    "        sim_scores[item_idx] = 0\n",
    "\n",
    "    top_indices=sim_scores.argsort()[-top_n:][::-1]\n",
    "    top_news_ids = item_index[top_indices]\n",
    "\n",
    "    return news_df[news_df['news_id'].isin(top_news_ids)][['news_id', 'title', 'abstract']]\n"
   ]
  },
  {
   "cell_type": "code",
   "execution_count": 23,
   "id": "4bcd4db6",
   "metadata": {},
   "outputs": [
    {
     "name": "stdout",
     "output_type": "stream",
     "text": [
      "Item-based Recommendations for User U100038:\n",
      "\n",
      "       news_id                                              title  \\\n",
      "78141   N98178  Charles Rogers, former Michigan State football...   \n",
      "88664   N30899  College gymnast dies following training accide...   \n",
      "88666    N7937                    Dean Foods files for bankruptcy   \n",
      "94618   N47257  Rip Taylor's Cause of Death Revealed, Memorial...   \n",
      "100814  N32154  Porsche launches into second story of New Jers...   \n",
      "\n",
      "                                                 abstract  \n",
      "78141   Charles Rogers, the former Michigan State foot...  \n",
      "88664   Melanie Coleman, 20, of Milford, was practicin...  \n",
      "88666   Dean Foods, America's largest milk producer, i...  \n",
      "94618      The comedian died at the age of 84 last month.  \n",
      "100814  The Porsche went airborne off a median in Toms...  \n"
     ]
    }
   ],
   "source": [
    "test_user= user_item_matrix.index[2]\n",
    "recommendations = recommend_items_for_users(test_user, top_n=5)\n",
    "\n",
    "print(f\"Item-based Recommendations for User {test_user}:\\n\")\n",
    "print(recommendations if not recommendations.empty else \"❌ No new articles to recommend.\")"
   ]
  },
  {
   "cell_type": "markdown",
   "id": "2e73112a",
   "metadata": {},
   "source": [
    "Hybrid Recommendation System"
   ]
  },
  {
   "cell_type": "code",
   "execution_count": 29,
   "id": "f657502c",
   "metadata": {},
   "outputs": [],
   "source": [
    "user_index=user_item_matrix.index\n",
    "item_index=user_item_matrix.columns"
   ]
  },
  {
   "cell_type": "code",
   "execution_count": 26,
   "id": "f45ea731",
   "metadata": {},
   "outputs": [],
   "source": [
    "def hybrid_recommendations(user_id, top_n=5, user_weight=0.5, item_weight=0.5):\n",
    "    if user_id not in user_index:\n",
    "        print(f\"User {user_id} not found.\")\n",
    "        return pd\n",
    "    \n",
    "    #User based scores\n",
    "    user_idx=np.where(user_index == user_id)[0][0]\n",
    "    sim_users= list(enumerate(user_similarity[user_idx]))\n",
    "    sim_users= sorted(sim_users, key=lambda x: x[1], reverse=True)[1:11]\n",
    "\n",
    "    user_scores = user_item_matrix.iloc[[i for i, _ in sim_users]].mean(axis=0)\n",
    "\n",
    "    #Item based scores\n",
    "    user_row=user_item_matrix.loc[user_id]\n",
    "    clicked_items = user_row[user_row > 0].index.tolist()  \n",
    "\n",
    "    item_scores=np.zeros(len(item_index))\n",
    "    for item in clicked_items:\n",
    "        item_idx=np.where(item_index == item)[0][0]\n",
    "        item_scores += item_item_matrix[item_idx]\n",
    "\n",
    "    #remove already clicked items\n",
    "    for item in clicked_items:\n",
    "        item_idx=np.where(item_index == item)[0][0]\n",
    "        item_scores[item_idx] = 0\n",
    "\n",
    "    item_scores = pd.Series(item_scores, index=item_index)\n",
    "\n",
    "    #Combine scores\n",
    "    hybrid_scores = (user_weight * user_scores) + (item_weight * item_scores)\n",
    "    hybrid_scores = hybrid_scores.sort_values(ascending=False).head(top_n)\n",
    "\n",
    "    #return recommended articles\n",
    "    top_news_ids = hybrid_scores.index.tolist()\n",
    "    return news_df[news_df['news_id'].isin(top_news_ids)][['news_id', 'title', 'abstract']]"
   ]
  },
  {
   "cell_type": "code",
   "execution_count": 27,
   "id": "1a396b1f",
   "metadata": {},
   "outputs": [
    {
     "name": "stdout",
     "output_type": "stream",
     "text": [
      "Hybrid Recommendations for User U100038:\n",
      "\n",
      "       news_id                                              title  \\\n",
      "88664   N30899  College gymnast dies following training accide...   \n",
      "88666    N7937                    Dean Foods files for bankruptcy   \n",
      "94618   N47257  Rip Taylor's Cause of Death Revealed, Memorial...   \n",
      "100508  N20990  The son of a Chinese billionaire has been bann...   \n",
      "100814  N32154  Porsche launches into second story of New Jers...   \n",
      "\n",
      "                                                 abstract  \n",
      "88664   Melanie Coleman, 20, of Milford, was practicin...  \n",
      "88666   Dean Foods, America's largest milk producer, i...  \n",
      "94618      The comedian died at the age of 84 last month.  \n",
      "100508  Wang Sicong, the heir of Chinese real estate m...  \n",
      "100814  The Porsche went airborne off a median in Toms...  \n"
     ]
    }
   ],
   "source": [
    "test_user= user_item_matrix.index[2]\n",
    "\n",
    "hybrid_recs=hybrid_recommendations(test_user, top_n=5, user_weight=0.5, item_weight=0.5)\n",
    "\n",
    "print(f\"Hybrid Recommendations for User {test_user}:\\n\")\n",
    "print(hybrid_recs if not hybrid_recs.empty else \"❌ No new articles to recommend.\")"
   ]
  },
  {
   "cell_type": "markdown",
   "id": "5f3e81f2",
   "metadata": {},
   "source": [
    "Deep Learning Recommender"
   ]
  },
  {
   "cell_type": "code",
   "execution_count": 17,
   "id": "6608b408",
   "metadata": {},
   "outputs": [],
   "source": [
    "# Step 1: Drop duplicates and reset index\n",
    "interactions_df = interactions_df.drop_duplicates(subset=['user_id', 'news_id'], keep='last').reset_index(drop=True)\n",
    "\n",
    "# Step 2: Encode from filtered DataFrame\n",
    "from sklearn.preprocessing import LabelEncoder\n",
    "\n",
    "user_encoder = LabelEncoder()\n",
    "item_encoder = LabelEncoder()\n",
    "\n",
    "# Sample 2 million rows (adjust as needed)\n",
    "sample_df = interactions_df.sample(n=2_000_000, random_state=42)\n",
    "\n",
    "# Encode only this subset\n",
    "sample_df['user_idx'] = user_encoder.fit_transform(sample_df['user_id'])\n",
    "sample_df['item_idx'] = item_encoder.fit_transform(sample_df['news_id'])\n",
    "\n",
    "X_users = sample_df['user_idx'].values.reshape(-1, 1)\n",
    "X_items = sample_df['item_idx'].values.reshape(-1, 1)\n",
    "y = sample_df['clicked'].values\n",
    "\n"
   ]
  },
  {
   "cell_type": "code",
   "execution_count": 21,
   "id": "24ba1762",
   "metadata": {},
   "outputs": [
    {
     "data": {
      "text/html": [
       "<pre style=\"white-space:pre;overflow-x:auto;line-height:normal;font-family:Menlo,'DejaVu Sans Mono',consolas,'Courier New',monospace\"><span style=\"font-weight: bold\">Model: \"functional_1\"</span>\n",
       "</pre>\n"
      ],
      "text/plain": [
       "\u001b[1mModel: \"functional_1\"\u001b[0m\n"
      ]
     },
     "metadata": {},
     "output_type": "display_data"
    },
    {
     "data": {
      "text/html": [
       "<pre style=\"white-space:pre;overflow-x:auto;line-height:normal;font-family:Menlo,'DejaVu Sans Mono',consolas,'Courier New',monospace\">┏━━━━━━━━━━━━━━━━━━━━━┳━━━━━━━━━━━━━━━━━━━┳━━━━━━━━━━━━┳━━━━━━━━━━━━━━━━━━━┓\n",
       "┃<span style=\"font-weight: bold\"> Layer (type)        </span>┃<span style=\"font-weight: bold\"> Output Shape      </span>┃<span style=\"font-weight: bold\">    Param # </span>┃<span style=\"font-weight: bold\"> Connected to      </span>┃\n",
       "┡━━━━━━━━━━━━━━━━━━━━━╇━━━━━━━━━━━━━━━━━━━╇━━━━━━━━━━━━╇━━━━━━━━━━━━━━━━━━━┩\n",
       "│ user_input          │ (<span style=\"color: #00d7ff; text-decoration-color: #00d7ff\">None</span>, <span style=\"color: #00af00; text-decoration-color: #00af00\">1</span>)         │          <span style=\"color: #00af00; text-decoration-color: #00af00\">0</span> │ -                 │\n",
       "│ (<span style=\"color: #0087ff; text-decoration-color: #0087ff\">InputLayer</span>)        │                   │            │                   │\n",
       "├─────────────────────┼───────────────────┼────────────┼───────────────────┤\n",
       "│ item_input          │ (<span style=\"color: #00d7ff; text-decoration-color: #00d7ff\">None</span>, <span style=\"color: #00af00; text-decoration-color: #00af00\">1</span>)         │          <span style=\"color: #00af00; text-decoration-color: #00af00\">0</span> │ -                 │\n",
       "│ (<span style=\"color: #0087ff; text-decoration-color: #0087ff\">InputLayer</span>)        │                   │            │                   │\n",
       "├─────────────────────┼───────────────────┼────────────┼───────────────────┤\n",
       "│ user_embedding      │ (<span style=\"color: #00d7ff; text-decoration-color: #00d7ff\">None</span>, <span style=\"color: #00af00; text-decoration-color: #00af00\">1</span>, <span style=\"color: #00af00; text-decoration-color: #00af00\">64</span>)     │ <span style=\"color: #00af00; text-decoration-color: #00af00\">45,518,272</span> │ user_input[<span style=\"color: #00af00; text-decoration-color: #00af00\">0</span>][<span style=\"color: #00af00; text-decoration-color: #00af00\">0</span>]  │\n",
       "│ (<span style=\"color: #0087ff; text-decoration-color: #0087ff\">Embedding</span>)         │                   │            │                   │\n",
       "├─────────────────────┼───────────────────┼────────────┼───────────────────┤\n",
       "│ item_embedding      │ (<span style=\"color: #00d7ff; text-decoration-color: #00d7ff\">None</span>, <span style=\"color: #00af00; text-decoration-color: #00af00\">1</span>, <span style=\"color: #00af00; text-decoration-color: #00af00\">64</span>)     │  <span style=\"color: #00af00; text-decoration-color: #00af00\">1,731,008</span> │ item_input[<span style=\"color: #00af00; text-decoration-color: #00af00\">0</span>][<span style=\"color: #00af00; text-decoration-color: #00af00\">0</span>]  │\n",
       "│ (<span style=\"color: #0087ff; text-decoration-color: #0087ff\">Embedding</span>)         │                   │            │                   │\n",
       "├─────────────────────┼───────────────────┼────────────┼───────────────────┤\n",
       "│ flatten_2 (<span style=\"color: #0087ff; text-decoration-color: #0087ff\">Flatten</span>) │ (<span style=\"color: #00d7ff; text-decoration-color: #00d7ff\">None</span>, <span style=\"color: #00af00; text-decoration-color: #00af00\">64</span>)        │          <span style=\"color: #00af00; text-decoration-color: #00af00\">0</span> │ user_embedding[<span style=\"color: #00af00; text-decoration-color: #00af00\">0</span>… │\n",
       "├─────────────────────┼───────────────────┼────────────┼───────────────────┤\n",
       "│ flatten_3 (<span style=\"color: #0087ff; text-decoration-color: #0087ff\">Flatten</span>) │ (<span style=\"color: #00d7ff; text-decoration-color: #00d7ff\">None</span>, <span style=\"color: #00af00; text-decoration-color: #00af00\">64</span>)        │          <span style=\"color: #00af00; text-decoration-color: #00af00\">0</span> │ item_embedding[<span style=\"color: #00af00; text-decoration-color: #00af00\">0</span>… │\n",
       "├─────────────────────┼───────────────────┼────────────┼───────────────────┤\n",
       "│ concatenate_1       │ (<span style=\"color: #00d7ff; text-decoration-color: #00d7ff\">None</span>, <span style=\"color: #00af00; text-decoration-color: #00af00\">128</span>)       │          <span style=\"color: #00af00; text-decoration-color: #00af00\">0</span> │ flatten_2[<span style=\"color: #00af00; text-decoration-color: #00af00\">0</span>][<span style=\"color: #00af00; text-decoration-color: #00af00\">0</span>],  │\n",
       "│ (<span style=\"color: #0087ff; text-decoration-color: #0087ff\">Concatenate</span>)       │                   │            │ flatten_3[<span style=\"color: #00af00; text-decoration-color: #00af00\">0</span>][<span style=\"color: #00af00; text-decoration-color: #00af00\">0</span>]   │\n",
       "├─────────────────────┼───────────────────┼────────────┼───────────────────┤\n",
       "│ dense_3 (<span style=\"color: #0087ff; text-decoration-color: #0087ff\">Dense</span>)     │ (<span style=\"color: #00d7ff; text-decoration-color: #00d7ff\">None</span>, <span style=\"color: #00af00; text-decoration-color: #00af00\">128</span>)       │     <span style=\"color: #00af00; text-decoration-color: #00af00\">16,512</span> │ concatenate_1[<span style=\"color: #00af00; text-decoration-color: #00af00\">0</span>]… │\n",
       "├─────────────────────┼───────────────────┼────────────┼───────────────────┤\n",
       "│ leaky_re_lu         │ (<span style=\"color: #00d7ff; text-decoration-color: #00d7ff\">None</span>, <span style=\"color: #00af00; text-decoration-color: #00af00\">128</span>)       │          <span style=\"color: #00af00; text-decoration-color: #00af00\">0</span> │ dense_3[<span style=\"color: #00af00; text-decoration-color: #00af00\">0</span>][<span style=\"color: #00af00; text-decoration-color: #00af00\">0</span>]     │\n",
       "│ (<span style=\"color: #0087ff; text-decoration-color: #0087ff\">LeakyReLU</span>)         │                   │            │                   │\n",
       "├─────────────────────┼───────────────────┼────────────┼───────────────────┤\n",
       "│ batch_normalization │ (<span style=\"color: #00d7ff; text-decoration-color: #00d7ff\">None</span>, <span style=\"color: #00af00; text-decoration-color: #00af00\">128</span>)       │        <span style=\"color: #00af00; text-decoration-color: #00af00\">512</span> │ leaky_re_lu[<span style=\"color: #00af00; text-decoration-color: #00af00\">0</span>][<span style=\"color: #00af00; text-decoration-color: #00af00\">0</span>] │\n",
       "│ (<span style=\"color: #0087ff; text-decoration-color: #0087ff\">BatchNormalizatio…</span> │                   │            │                   │\n",
       "├─────────────────────┼───────────────────┼────────────┼───────────────────┤\n",
       "│ dropout_2 (<span style=\"color: #0087ff; text-decoration-color: #0087ff\">Dropout</span>) │ (<span style=\"color: #00d7ff; text-decoration-color: #00d7ff\">None</span>, <span style=\"color: #00af00; text-decoration-color: #00af00\">128</span>)       │          <span style=\"color: #00af00; text-decoration-color: #00af00\">0</span> │ batch_normalizat… │\n",
       "├─────────────────────┼───────────────────┼────────────┼───────────────────┤\n",
       "│ dense_4 (<span style=\"color: #0087ff; text-decoration-color: #0087ff\">Dense</span>)     │ (<span style=\"color: #00d7ff; text-decoration-color: #00d7ff\">None</span>, <span style=\"color: #00af00; text-decoration-color: #00af00\">64</span>)        │      <span style=\"color: #00af00; text-decoration-color: #00af00\">8,256</span> │ dropout_2[<span style=\"color: #00af00; text-decoration-color: #00af00\">0</span>][<span style=\"color: #00af00; text-decoration-color: #00af00\">0</span>]   │\n",
       "├─────────────────────┼───────────────────┼────────────┼───────────────────┤\n",
       "│ leaky_re_lu_1       │ (<span style=\"color: #00d7ff; text-decoration-color: #00d7ff\">None</span>, <span style=\"color: #00af00; text-decoration-color: #00af00\">64</span>)        │          <span style=\"color: #00af00; text-decoration-color: #00af00\">0</span> │ dense_4[<span style=\"color: #00af00; text-decoration-color: #00af00\">0</span>][<span style=\"color: #00af00; text-decoration-color: #00af00\">0</span>]     │\n",
       "│ (<span style=\"color: #0087ff; text-decoration-color: #0087ff\">LeakyReLU</span>)         │                   │            │                   │\n",
       "├─────────────────────┼───────────────────┼────────────┼───────────────────┤\n",
       "│ batch_normalizatio… │ (<span style=\"color: #00d7ff; text-decoration-color: #00d7ff\">None</span>, <span style=\"color: #00af00; text-decoration-color: #00af00\">64</span>)        │        <span style=\"color: #00af00; text-decoration-color: #00af00\">256</span> │ leaky_re_lu_1[<span style=\"color: #00af00; text-decoration-color: #00af00\">0</span>]… │\n",
       "│ (<span style=\"color: #0087ff; text-decoration-color: #0087ff\">BatchNormalizatio…</span> │                   │            │                   │\n",
       "├─────────────────────┼───────────────────┼────────────┼───────────────────┤\n",
       "│ dot (<span style=\"color: #0087ff; text-decoration-color: #0087ff\">Dot</span>)           │ (<span style=\"color: #00d7ff; text-decoration-color: #00d7ff\">None</span>, <span style=\"color: #00af00; text-decoration-color: #00af00\">1</span>)         │          <span style=\"color: #00af00; text-decoration-color: #00af00\">0</span> │ flatten_2[<span style=\"color: #00af00; text-decoration-color: #00af00\">0</span>][<span style=\"color: #00af00; text-decoration-color: #00af00\">0</span>],  │\n",
       "│                     │                   │            │ flatten_3[<span style=\"color: #00af00; text-decoration-color: #00af00\">0</span>][<span style=\"color: #00af00; text-decoration-color: #00af00\">0</span>]   │\n",
       "├─────────────────────┼───────────────────┼────────────┼───────────────────┤\n",
       "│ dropout_3 (<span style=\"color: #0087ff; text-decoration-color: #0087ff\">Dropout</span>) │ (<span style=\"color: #00d7ff; text-decoration-color: #00d7ff\">None</span>, <span style=\"color: #00af00; text-decoration-color: #00af00\">64</span>)        │          <span style=\"color: #00af00; text-decoration-color: #00af00\">0</span> │ batch_normalizat… │\n",
       "├─────────────────────┼───────────────────┼────────────┼───────────────────┤\n",
       "│ concatenate_2       │ (<span style=\"color: #00d7ff; text-decoration-color: #00d7ff\">None</span>, <span style=\"color: #00af00; text-decoration-color: #00af00\">65</span>)        │          <span style=\"color: #00af00; text-decoration-color: #00af00\">0</span> │ dot[<span style=\"color: #00af00; text-decoration-color: #00af00\">0</span>][<span style=\"color: #00af00; text-decoration-color: #00af00\">0</span>],        │\n",
       "│ (<span style=\"color: #0087ff; text-decoration-color: #0087ff\">Concatenate</span>)       │                   │            │ dropout_3[<span style=\"color: #00af00; text-decoration-color: #00af00\">0</span>][<span style=\"color: #00af00; text-decoration-color: #00af00\">0</span>]   │\n",
       "├─────────────────────┼───────────────────┼────────────┼───────────────────┤\n",
       "│ dense_5 (<span style=\"color: #0087ff; text-decoration-color: #0087ff\">Dense</span>)     │ (<span style=\"color: #00d7ff; text-decoration-color: #00d7ff\">None</span>, <span style=\"color: #00af00; text-decoration-color: #00af00\">1</span>)         │         <span style=\"color: #00af00; text-decoration-color: #00af00\">66</span> │ concatenate_2[<span style=\"color: #00af00; text-decoration-color: #00af00\">0</span>]… │\n",
       "└─────────────────────┴───────────────────┴────────────┴───────────────────┘\n",
       "</pre>\n"
      ],
      "text/plain": [
       "┏━━━━━━━━━━━━━━━━━━━━━┳━━━━━━━━━━━━━━━━━━━┳━━━━━━━━━━━━┳━━━━━━━━━━━━━━━━━━━┓\n",
       "┃\u001b[1m \u001b[0m\u001b[1mLayer (type)       \u001b[0m\u001b[1m \u001b[0m┃\u001b[1m \u001b[0m\u001b[1mOutput Shape     \u001b[0m\u001b[1m \u001b[0m┃\u001b[1m \u001b[0m\u001b[1m   Param #\u001b[0m\u001b[1m \u001b[0m┃\u001b[1m \u001b[0m\u001b[1mConnected to     \u001b[0m\u001b[1m \u001b[0m┃\n",
       "┡━━━━━━━━━━━━━━━━━━━━━╇━━━━━━━━━━━━━━━━━━━╇━━━━━━━━━━━━╇━━━━━━━━━━━━━━━━━━━┩\n",
       "│ user_input          │ (\u001b[38;5;45mNone\u001b[0m, \u001b[38;5;34m1\u001b[0m)         │          \u001b[38;5;34m0\u001b[0m │ -                 │\n",
       "│ (\u001b[38;5;33mInputLayer\u001b[0m)        │                   │            │                   │\n",
       "├─────────────────────┼───────────────────┼────────────┼───────────────────┤\n",
       "│ item_input          │ (\u001b[38;5;45mNone\u001b[0m, \u001b[38;5;34m1\u001b[0m)         │          \u001b[38;5;34m0\u001b[0m │ -                 │\n",
       "│ (\u001b[38;5;33mInputLayer\u001b[0m)        │                   │            │                   │\n",
       "├─────────────────────┼───────────────────┼────────────┼───────────────────┤\n",
       "│ user_embedding      │ (\u001b[38;5;45mNone\u001b[0m, \u001b[38;5;34m1\u001b[0m, \u001b[38;5;34m64\u001b[0m)     │ \u001b[38;5;34m45,518,272\u001b[0m │ user_input[\u001b[38;5;34m0\u001b[0m][\u001b[38;5;34m0\u001b[0m]  │\n",
       "│ (\u001b[38;5;33mEmbedding\u001b[0m)         │                   │            │                   │\n",
       "├─────────────────────┼───────────────────┼────────────┼───────────────────┤\n",
       "│ item_embedding      │ (\u001b[38;5;45mNone\u001b[0m, \u001b[38;5;34m1\u001b[0m, \u001b[38;5;34m64\u001b[0m)     │  \u001b[38;5;34m1,731,008\u001b[0m │ item_input[\u001b[38;5;34m0\u001b[0m][\u001b[38;5;34m0\u001b[0m]  │\n",
       "│ (\u001b[38;5;33mEmbedding\u001b[0m)         │                   │            │                   │\n",
       "├─────────────────────┼───────────────────┼────────────┼───────────────────┤\n",
       "│ flatten_2 (\u001b[38;5;33mFlatten\u001b[0m) │ (\u001b[38;5;45mNone\u001b[0m, \u001b[38;5;34m64\u001b[0m)        │          \u001b[38;5;34m0\u001b[0m │ user_embedding[\u001b[38;5;34m0\u001b[0m… │\n",
       "├─────────────────────┼───────────────────┼────────────┼───────────────────┤\n",
       "│ flatten_3 (\u001b[38;5;33mFlatten\u001b[0m) │ (\u001b[38;5;45mNone\u001b[0m, \u001b[38;5;34m64\u001b[0m)        │          \u001b[38;5;34m0\u001b[0m │ item_embedding[\u001b[38;5;34m0\u001b[0m… │\n",
       "├─────────────────────┼───────────────────┼────────────┼───────────────────┤\n",
       "│ concatenate_1       │ (\u001b[38;5;45mNone\u001b[0m, \u001b[38;5;34m128\u001b[0m)       │          \u001b[38;5;34m0\u001b[0m │ flatten_2[\u001b[38;5;34m0\u001b[0m][\u001b[38;5;34m0\u001b[0m],  │\n",
       "│ (\u001b[38;5;33mConcatenate\u001b[0m)       │                   │            │ flatten_3[\u001b[38;5;34m0\u001b[0m][\u001b[38;5;34m0\u001b[0m]   │\n",
       "├─────────────────────┼───────────────────┼────────────┼───────────────────┤\n",
       "│ dense_3 (\u001b[38;5;33mDense\u001b[0m)     │ (\u001b[38;5;45mNone\u001b[0m, \u001b[38;5;34m128\u001b[0m)       │     \u001b[38;5;34m16,512\u001b[0m │ concatenate_1[\u001b[38;5;34m0\u001b[0m]… │\n",
       "├─────────────────────┼───────────────────┼────────────┼───────────────────┤\n",
       "│ leaky_re_lu         │ (\u001b[38;5;45mNone\u001b[0m, \u001b[38;5;34m128\u001b[0m)       │          \u001b[38;5;34m0\u001b[0m │ dense_3[\u001b[38;5;34m0\u001b[0m][\u001b[38;5;34m0\u001b[0m]     │\n",
       "│ (\u001b[38;5;33mLeakyReLU\u001b[0m)         │                   │            │                   │\n",
       "├─────────────────────┼───────────────────┼────────────┼───────────────────┤\n",
       "│ batch_normalization │ (\u001b[38;5;45mNone\u001b[0m, \u001b[38;5;34m128\u001b[0m)       │        \u001b[38;5;34m512\u001b[0m │ leaky_re_lu[\u001b[38;5;34m0\u001b[0m][\u001b[38;5;34m0\u001b[0m] │\n",
       "│ (\u001b[38;5;33mBatchNormalizatio…\u001b[0m │                   │            │                   │\n",
       "├─────────────────────┼───────────────────┼────────────┼───────────────────┤\n",
       "│ dropout_2 (\u001b[38;5;33mDropout\u001b[0m) │ (\u001b[38;5;45mNone\u001b[0m, \u001b[38;5;34m128\u001b[0m)       │          \u001b[38;5;34m0\u001b[0m │ batch_normalizat… │\n",
       "├─────────────────────┼───────────────────┼────────────┼───────────────────┤\n",
       "│ dense_4 (\u001b[38;5;33mDense\u001b[0m)     │ (\u001b[38;5;45mNone\u001b[0m, \u001b[38;5;34m64\u001b[0m)        │      \u001b[38;5;34m8,256\u001b[0m │ dropout_2[\u001b[38;5;34m0\u001b[0m][\u001b[38;5;34m0\u001b[0m]   │\n",
       "├─────────────────────┼───────────────────┼────────────┼───────────────────┤\n",
       "│ leaky_re_lu_1       │ (\u001b[38;5;45mNone\u001b[0m, \u001b[38;5;34m64\u001b[0m)        │          \u001b[38;5;34m0\u001b[0m │ dense_4[\u001b[38;5;34m0\u001b[0m][\u001b[38;5;34m0\u001b[0m]     │\n",
       "│ (\u001b[38;5;33mLeakyReLU\u001b[0m)         │                   │            │                   │\n",
       "├─────────────────────┼───────────────────┼────────────┼───────────────────┤\n",
       "│ batch_normalizatio… │ (\u001b[38;5;45mNone\u001b[0m, \u001b[38;5;34m64\u001b[0m)        │        \u001b[38;5;34m256\u001b[0m │ leaky_re_lu_1[\u001b[38;5;34m0\u001b[0m]… │\n",
       "│ (\u001b[38;5;33mBatchNormalizatio…\u001b[0m │                   │            │                   │\n",
       "├─────────────────────┼───────────────────┼────────────┼───────────────────┤\n",
       "│ dot (\u001b[38;5;33mDot\u001b[0m)           │ (\u001b[38;5;45mNone\u001b[0m, \u001b[38;5;34m1\u001b[0m)         │          \u001b[38;5;34m0\u001b[0m │ flatten_2[\u001b[38;5;34m0\u001b[0m][\u001b[38;5;34m0\u001b[0m],  │\n",
       "│                     │                   │            │ flatten_3[\u001b[38;5;34m0\u001b[0m][\u001b[38;5;34m0\u001b[0m]   │\n",
       "├─────────────────────┼───────────────────┼────────────┼───────────────────┤\n",
       "│ dropout_3 (\u001b[38;5;33mDropout\u001b[0m) │ (\u001b[38;5;45mNone\u001b[0m, \u001b[38;5;34m64\u001b[0m)        │          \u001b[38;5;34m0\u001b[0m │ batch_normalizat… │\n",
       "├─────────────────────┼───────────────────┼────────────┼───────────────────┤\n",
       "│ concatenate_2       │ (\u001b[38;5;45mNone\u001b[0m, \u001b[38;5;34m65\u001b[0m)        │          \u001b[38;5;34m0\u001b[0m │ dot[\u001b[38;5;34m0\u001b[0m][\u001b[38;5;34m0\u001b[0m],        │\n",
       "│ (\u001b[38;5;33mConcatenate\u001b[0m)       │                   │            │ dropout_3[\u001b[38;5;34m0\u001b[0m][\u001b[38;5;34m0\u001b[0m]   │\n",
       "├─────────────────────┼───────────────────┼────────────┼───────────────────┤\n",
       "│ dense_5 (\u001b[38;5;33mDense\u001b[0m)     │ (\u001b[38;5;45mNone\u001b[0m, \u001b[38;5;34m1\u001b[0m)         │         \u001b[38;5;34m66\u001b[0m │ concatenate_2[\u001b[38;5;34m0\u001b[0m]… │\n",
       "└─────────────────────┴───────────────────┴────────────┴───────────────────┘\n"
      ]
     },
     "metadata": {},
     "output_type": "display_data"
    },
    {
     "data": {
      "text/html": [
       "<pre style=\"white-space:pre;overflow-x:auto;line-height:normal;font-family:Menlo,'DejaVu Sans Mono',consolas,'Courier New',monospace\"><span style=\"font-weight: bold\"> Total params: </span><span style=\"color: #00af00; text-decoration-color: #00af00\">47,274,882</span> (180.34 MB)\n",
       "</pre>\n"
      ],
      "text/plain": [
       "\u001b[1m Total params: \u001b[0m\u001b[38;5;34m47,274,882\u001b[0m (180.34 MB)\n"
      ]
     },
     "metadata": {},
     "output_type": "display_data"
    },
    {
     "data": {
      "text/html": [
       "<pre style=\"white-space:pre;overflow-x:auto;line-height:normal;font-family:Menlo,'DejaVu Sans Mono',consolas,'Courier New',monospace\"><span style=\"font-weight: bold\"> Trainable params: </span><span style=\"color: #00af00; text-decoration-color: #00af00\">47,274,498</span> (180.34 MB)\n",
       "</pre>\n"
      ],
      "text/plain": [
       "\u001b[1m Trainable params: \u001b[0m\u001b[38;5;34m47,274,498\u001b[0m (180.34 MB)\n"
      ]
     },
     "metadata": {},
     "output_type": "display_data"
    },
    {
     "data": {
      "text/html": [
       "<pre style=\"white-space:pre;overflow-x:auto;line-height:normal;font-family:Menlo,'DejaVu Sans Mono',consolas,'Courier New',monospace\"><span style=\"font-weight: bold\"> Non-trainable params: </span><span style=\"color: #00af00; text-decoration-color: #00af00\">384</span> (1.50 KB)\n",
       "</pre>\n"
      ],
      "text/plain": [
       "\u001b[1m Non-trainable params: \u001b[0m\u001b[38;5;34m384\u001b[0m (1.50 KB)\n"
      ]
     },
     "metadata": {},
     "output_type": "display_data"
    }
   ],
   "source": [
    "import tensorflow as tf\n",
    "from tensorflow.keras.models import Model\n",
    "from tensorflow.keras.layers import (\n",
    "    Input, Embedding, Flatten, Dot, Dense, Concatenate,\n",
    "    Dropout, BatchNormalization, LeakyReLU\n",
    ")\n",
    "\n",
    "n_users = interactions_df['user_id'].nunique()\n",
    "n_items = interactions_df['news_id'].nunique()\n",
    "embedding_dim = 64\n",
    "\n",
    "# Inputs\n",
    "user_input = Input(shape=(1,), name='user_input')\n",
    "item_input = Input(shape=(1,), name='item_input')\n",
    "\n",
    "# Embeddings\n",
    "user_emb = Embedding(input_dim=n_users + 1, output_dim=embedding_dim, name='user_embedding')(user_input)\n",
    "item_emb = Embedding(input_dim=n_items + 1, output_dim=embedding_dim, name='item_embedding')(item_input)\n",
    "\n",
    "# Vectors\n",
    "user_vec = Flatten()(user_emb)\n",
    "item_vec = Flatten()(item_emb)\n",
    "\n",
    "# Dot product path\n",
    "dot_product = Dot(axes=1)([user_vec, item_vec])\n",
    "\n",
    "# Dense path (non-linear interactions)\n",
    "x = Concatenate()([user_vec, item_vec])\n",
    "x = Dense(128)(x)\n",
    "x = LeakyReLU()(x)\n",
    "x = BatchNormalization()(x)\n",
    "x = Dropout(0.3)(x)\n",
    "\n",
    "x = Dense(64)(x)\n",
    "x = LeakyReLU()(x)\n",
    "x = BatchNormalization()(x)\n",
    "x = Dropout(0.3)(x)\n",
    "\n",
    "# Merge linear and non-linear\n",
    "merged = Concatenate()([dot_product, x])\n",
    "output = Dense(1, activation='sigmoid')(merged)\n",
    "\n",
    "# Compile\n",
    "model = Model(inputs=[user_input, item_input], outputs=output)\n",
    "model.compile(optimizer='adam', loss='binary_crossentropy', metrics=['accuracy'])\n",
    "model.summary()\n"
   ]
  },
  {
   "cell_type": "code",
   "execution_count": 22,
   "id": "84e3c3fb",
   "metadata": {},
   "outputs": [
    {
     "name": "stdout",
     "output_type": "stream",
     "text": [
      "Epoch 1/8\n",
      "\u001b[1m7032/7032\u001b[0m \u001b[32m━━━━━━━━━━━━━━━━━━━━\u001b[0m\u001b[37m\u001b[0m \u001b[1m669s\u001b[0m 95ms/step - accuracy: 0.9317 - loss: 0.2203 - val_accuracy: 0.9585 - val_loss: 0.1598\n",
      "Epoch 2/8\n",
      "\u001b[1m7032/7032\u001b[0m \u001b[32m━━━━━━━━━━━━━━━━━━━━\u001b[0m\u001b[37m\u001b[0m \u001b[1m672s\u001b[0m 96ms/step - accuracy: 0.9586 - loss: 0.1423 - val_accuracy: 0.9577 - val_loss: 0.1671\n",
      "Epoch 3/8\n",
      "\u001b[1m7032/7032\u001b[0m \u001b[32m━━━━━━━━━━━━━━━━━━━━\u001b[0m\u001b[37m\u001b[0m \u001b[1m653s\u001b[0m 93ms/step - accuracy: 0.9677 - loss: 0.0947 - val_accuracy: 0.9475 - val_loss: 0.2087\n",
      "Epoch 4/8\n",
      "\u001b[1m7032/7032\u001b[0m \u001b[32m━━━━━━━━━━━━━━━━━━━━\u001b[0m\u001b[37m\u001b[0m \u001b[1m639s\u001b[0m 91ms/step - accuracy: 0.9884 - loss: 0.0345 - val_accuracy: 0.9246 - val_loss: 0.2952\n",
      "Epoch 5/8\n",
      "\u001b[1m7032/7032\u001b[0m \u001b[32m━━━━━━━━━━━━━━━━━━━━\u001b[0m\u001b[37m\u001b[0m \u001b[1m692s\u001b[0m 98ms/step - accuracy: 0.9994 - loss: 0.0030 - val_accuracy: 0.9167 - val_loss: 0.3822\n",
      "Epoch 6/8\n",
      "\u001b[1m7032/7032\u001b[0m \u001b[32m━━━━━━━━━━━━━━━━━━━━\u001b[0m\u001b[37m\u001b[0m \u001b[1m11662s\u001b[0m 2s/step - accuracy: 1.0000 - loss: 1.7266e-04 - val_accuracy: 0.9094 - val_loss: 0.4493\n",
      "Epoch 7/8\n",
      "\u001b[1m7032/7032\u001b[0m \u001b[32m━━━━━━━━━━━━━━━━━━━━\u001b[0m\u001b[37m\u001b[0m \u001b[1m640s\u001b[0m 91ms/step - accuracy: 1.0000 - loss: 1.8315e-05 - val_accuracy: 0.9186 - val_loss: 0.4856\n",
      "Epoch 8/8\n",
      "\u001b[1m7032/7032\u001b[0m \u001b[32m━━━━━━━━━━━━━━━━━━━━\u001b[0m\u001b[37m\u001b[0m \u001b[1m689s\u001b[0m 98ms/step - accuracy: 1.0000 - loss: 9.5975e-06 - val_accuracy: 0.9187 - val_loss: 0.5200\n"
     ]
    },
    {
     "data": {
      "text/plain": [
       "<keras.src.callbacks.history.History at 0x15889a4e0>"
      ]
     },
     "execution_count": 22,
     "metadata": {},
     "output_type": "execute_result"
    }
   ],
   "source": [
    "model.fit(\n",
    "    [X_users.reshape(-1, 1), X_items.reshape(-1, 1)],\n",
    "    y,\n",
    "    epochs=8,\n",
    "    batch_size=256,\n",
    "    validation_split=0.1,\n",
    "    verbose=1\n",
    ")\n"
   ]
  },
  {
   "cell_type": "code",
   "execution_count": null,
   "id": "c9e1487f",
   "metadata": {},
   "outputs": [],
   "source": []
  },
  {
   "cell_type": "code",
   "execution_count": null,
   "id": "0d455f95",
   "metadata": {},
   "outputs": [],
   "source": []
  },
  {
   "cell_type": "markdown",
   "id": "2cc53de0",
   "metadata": {},
   "source": [
    "Hyrbrid model with category boosting and time boosting"
   ]
  },
  {
   "cell_type": "code",
   "execution_count": 28,
   "id": "61d43b92",
   "metadata": {},
   "outputs": [
    {
     "name": "stdout",
     "output_type": "stream",
     "text": [
      "Index(['news_id', 'category', 'subcategory', 'title', 'abstract', 'url',\n",
      "       'title_entities', 'abstract_entities'],\n",
      "      dtype='object')\n"
     ]
    }
   ],
   "source": [
    "import pandas as pd\n",
    "news_df = pd.read_table(\"/Users/swayamdesai/Downloads/MINDlarge_train/news.tsv\", header=None,\n",
    "    names=[\"news_id\", \"category\", \"subcategory\", \"title\", \"abstract\", \"url\", \"title_entities\", \"abstract_entities\"])\n",
    "\n",
    "print(news_df.columns)\n"
   ]
  },
  {
   "cell_type": "code",
   "execution_count": 29,
   "id": "814ce774",
   "metadata": {},
   "outputs": [],
   "source": [
    "from datetime import datetime\n",
    "current_hour = datetime.now().hour\n",
    "\n",
    "user_category_pref = sampled_df[sampled_df['clicked'] == 1].merge(\n",
    "    news_df[['news_id', 'category']], on='news_id'\n",
    ").groupby('user_id')['category'].agg(lambda x: x.value_counts().idxmax())\n"
   ]
  },
  {
   "cell_type": "code",
   "execution_count": 30,
   "id": "59a9e081",
   "metadata": {},
   "outputs": [],
   "source": [
    "def hybrid_recommend(user_id, top_n=5, category_filter=None):\n",
    "    if user_id not in user_index:\n",
    "        print(\"User not found.\")\n",
    "        return pd.DataFrame()\n",
    "\n",
    "    user_idx = np.where(user_index == user_id)[0][0]\n",
    "    \n",
    "    # === USER-BASED CF ===\n",
    "    sim_scores = list(enumerate(user_similarity[user_idx]))\n",
    "    top_users = [i for i, _ in sorted(sim_scores, key=lambda x: x[1], reverse=True)[1:11]]\n",
    "    user_based_scores = user_item_matrix.iloc[top_users].mean(axis=0)\n",
    "\n",
    "    # === ITEM-BASED CF ===\n",
    "    clicked_items = user_item_matrix.loc[user_id]\n",
    "    clicked_ids = clicked_items[clicked_items > 0].index.tolist()\n",
    "\n",
    "    item_scores = np.zeros(len(item_item_matrix))\n",
    "    for item in clicked_ids:\n",
    "        item_idx = np.where(item_index == item)[0][0]\n",
    "        item_scores += item_item_matrix[item_idx]\n",
    "\n",
    "    for item in clicked_ids:\n",
    "        item_idx = np.where(item_index == item)[0][0]\n",
    "        item_scores[item_idx] = 0\n",
    "\n",
    "    item_based_scores = pd.Series(item_scores, index=item_index)\n",
    "\n",
    "    # === COMBINE HYBRID SCORE ===\n",
    "    hybrid_scores = (user_based_scores + item_based_scores) / 2\n",
    "\n",
    "    # === CATEGORY PREFERENCE BOOST ===\n",
    "    preferred_cat = user_category_pref.get(user_id, None)\n",
    "    if preferred_cat:\n",
    "        category_map = news_df.set_index('news_id')['category'].to_dict()\n",
    "        for nid in hybrid_scores.index:\n",
    "            if category_map.get(nid) == preferred_cat:\n",
    "                hybrid_scores[nid] *= 1.2\n",
    "\n",
    "    # === TIME-OF-DAY FILTERING ===\n",
    "    current_hour = datetime.now().hour\n",
    "    recent_behaviors = behaviors_df[pd.to_datetime(behaviors_df['timestamp']).dt.hour == current_hour]\n",
    "    recent_news_ids = set()\n",
    "    for row in recent_behaviors['impressions']:\n",
    "        recent_news_ids.update([pair.split('-')[0] for pair in row.split()])\n",
    "    hybrid_scores = hybrid_scores[hybrid_scores.index.isin(recent_news_ids)]\n",
    "\n",
    "    # === FILTER UNSEEN ARTICLES ===\n",
    "    user_clicked = user_item_matrix.loc[user_id]\n",
    "    hybrid_scores = hybrid_scores[user_clicked == 0]\n",
    "\n",
    "    # === Optional: Filter by chosen category ===\n",
    "    if category_filter:\n",
    "        category_map = news_df.set_index('news_id')['category'].to_dict()\n",
    "        hybrid_scores = hybrid_scores[[nid for nid in hybrid_scores.index if category_map.get(nid) == category_filter]]\n",
    "\n",
    "    # === Recommend Top N ===\n",
    "    top_articles = hybrid_scores.sort_values(ascending=False).head(top_n).index.tolist()\n",
    "    return news_df[news_df['news_id'].isin(top_articles)][['news_id', 'title', 'category', 'abstract']]\n"
   ]
  },
  {
   "cell_type": "code",
   "execution_count": 35,
   "id": "c6161487",
   "metadata": {},
   "outputs": [
    {
     "data": {
      "text/html": [
       "<div>\n",
       "<style scoped>\n",
       "    .dataframe tbody tr th:only-of-type {\n",
       "        vertical-align: middle;\n",
       "    }\n",
       "\n",
       "    .dataframe tbody tr th {\n",
       "        vertical-align: top;\n",
       "    }\n",
       "\n",
       "    .dataframe thead th {\n",
       "        text-align: right;\n",
       "    }\n",
       "</style>\n",
       "<table border=\"1\" class=\"dataframe\">\n",
       "  <thead>\n",
       "    <tr style=\"text-align: right;\">\n",
       "      <th></th>\n",
       "      <th>news_id</th>\n",
       "      <th>title</th>\n",
       "      <th>category</th>\n",
       "      <th>abstract</th>\n",
       "    </tr>\n",
       "  </thead>\n",
       "  <tbody>\n",
       "    <tr>\n",
       "      <th>78141</th>\n",
       "      <td>N98178</td>\n",
       "      <td>Charles Rogers, former Michigan State football...</td>\n",
       "      <td>sports</td>\n",
       "      <td>Charles Rogers, the former Michigan State foot...</td>\n",
       "    </tr>\n",
       "    <tr>\n",
       "      <th>88748</th>\n",
       "      <td>N62203</td>\n",
       "      <td>Stephen Curry calls out Michael Jordan for bei...</td>\n",
       "      <td>sports</td>\n",
       "      <td>While the opinion of arguably the greatest NBA...</td>\n",
       "    </tr>\n",
       "    <tr>\n",
       "      <th>94297</th>\n",
       "      <td>N115443</td>\n",
       "      <td>Kyle Shanahan blasts 49ers WRs over dropped pa...</td>\n",
       "      <td>sports</td>\n",
       "      <td>It's rare to see a coach single out one player...</td>\n",
       "    </tr>\n",
       "    <tr>\n",
       "      <th>100508</th>\n",
       "      <td>N20990</td>\n",
       "      <td>The son of a Chinese billionaire has been bann...</td>\n",
       "      <td>news</td>\n",
       "      <td>Wang Sicong, the heir of Chinese real estate m...</td>\n",
       "    </tr>\n",
       "    <tr>\n",
       "      <th>100814</th>\n",
       "      <td>N32154</td>\n",
       "      <td>Porsche launches into second story of New Jers...</td>\n",
       "      <td>news</td>\n",
       "      <td>The Porsche went airborne off a median in Toms...</td>\n",
       "    </tr>\n",
       "  </tbody>\n",
       "</table>\n",
       "</div>"
      ],
      "text/plain": [
       "        news_id                                              title category  \\\n",
       "78141    N98178  Charles Rogers, former Michigan State football...   sports   \n",
       "88748    N62203  Stephen Curry calls out Michael Jordan for bei...   sports   \n",
       "94297   N115443  Kyle Shanahan blasts 49ers WRs over dropped pa...   sports   \n",
       "100508   N20990  The son of a Chinese billionaire has been bann...     news   \n",
       "100814   N32154  Porsche launches into second story of New Jers...     news   \n",
       "\n",
       "                                                 abstract  \n",
       "78141   Charles Rogers, the former Michigan State foot...  \n",
       "88748   While the opinion of arguably the greatest NBA...  \n",
       "94297   It's rare to see a coach single out one player...  \n",
       "100508  Wang Sicong, the heir of Chinese real estate m...  \n",
       "100814  The Porsche went airborne off a median in Toms...  "
      ]
     },
     "execution_count": 35,
     "metadata": {},
     "output_type": "execute_result"
    }
   ],
   "source": [
    "test_user = user_item_matrix.index[2]\n",
    "hybrid_recommend(test_user, top_n=5)"
   ]
  },
  {
   "cell_type": "code",
   "execution_count": null,
   "id": "c4797bc2",
   "metadata": {},
   "outputs": [
    {
     "data": {
      "application/vnd.jupyter.widget-view+json": {
       "model_id": "f78a2e98d0844f25989feeefb3acd222",
       "version_major": 2,
       "version_minor": 0
      },
      "text/plain": [
       "Dropdown(description='Category:', options=(None, 'autos', 'entertainment', 'finance', 'foodanddrink', 'games',…"
      ]
     },
     "metadata": {},
     "output_type": "display_data"
    },
    {
     "data": {
      "application/vnd.jupyter.widget-view+json": {
       "model_id": "25e78cfac5454a74bae5aad0438068a4",
       "version_major": 2,
       "version_minor": 0
      },
      "text/plain": [
       "Button(description='Get Recommendations', style=ButtonStyle())"
      ]
     },
     "metadata": {},
     "output_type": "display_data"
    }
   ],
   "source": [
    "import ipywidgets as widgets\n",
    "from IPython.display import display\n",
    "\n",
    "# Dropdown for category\n",
    "category_options = sorted(news_df['category'].dropna().unique())\n",
    "category_dropdown = widgets.Dropdown(\n",
    "    options=[None] + category_options,\n",
    "    description='Category:',\n",
    "    value=None\n",
    ")\n",
    "\n",
    "# Button to trigger recommendation\n",
    "run_button = widgets.Button(description=\"Get Recommendations\")\n",
    "\n",
    "# Display\n",
    "display(category_dropdown, run_button)\n",
    "\n",
    "# On-click handler\n",
    "def on_button_click(b):\n",
    "    selected_category = category_dropdown.value\n",
    "    user_id = user_item_matrix.index[0]  # You can also use a text box for this\n",
    "    result = hybrid_recommend(user_id=user_id, top_n=5, category_filter=selected_category)\n",
    "    display(result)\n",
    "\n",
    "run_button.on_click(on_button_click)\n"
   ]
  },
  {
   "cell_type": "code",
   "execution_count": null,
   "id": "6e49c17f",
   "metadata": {},
   "outputs": [
    {
     "name": "stdout",
     "output_type": "stream",
     "text": [
      "✅ Try this user: U297646\n"
     ]
    },
    {
     "data": {
      "text/html": [
       "<div>\n",
       "<style scoped>\n",
       "    .dataframe tbody tr th:only-of-type {\n",
       "        vertical-align: middle;\n",
       "    }\n",
       "\n",
       "    .dataframe tbody tr th {\n",
       "        vertical-align: top;\n",
       "    }\n",
       "\n",
       "    .dataframe thead th {\n",
       "        text-align: right;\n",
       "    }\n",
       "</style>\n",
       "<table border=\"1\" class=\"dataframe\">\n",
       "  <thead>\n",
       "    <tr style=\"text-align: right;\">\n",
       "      <th></th>\n",
       "      <th>news_id</th>\n",
       "      <th>title</th>\n",
       "      <th>category</th>\n",
       "    </tr>\n",
       "  </thead>\n",
       "  <tbody>\n",
       "    <tr>\n",
       "      <th>76297</th>\n",
       "      <td>N47925</td>\n",
       "      <td>Three school workers charged in death of speci...</td>\n",
       "      <td>news</td>\n",
       "    </tr>\n",
       "    <tr>\n",
       "      <th>77345</th>\n",
       "      <td>N58641</td>\n",
       "      <td>Car of Marine linked to Virginia slaying is fo...</td>\n",
       "      <td>news</td>\n",
       "    </tr>\n",
       "    <tr>\n",
       "      <th>85920</th>\n",
       "      <td>N87684</td>\n",
       "      <td>37 Years After His Wife Is Found Dead with an ...</td>\n",
       "      <td>news</td>\n",
       "    </tr>\n",
       "    <tr>\n",
       "      <th>88664</th>\n",
       "      <td>N30899</td>\n",
       "      <td>College gymnast dies following training accide...</td>\n",
       "      <td>news</td>\n",
       "    </tr>\n",
       "    <tr>\n",
       "      <th>91502</th>\n",
       "      <td>N106875</td>\n",
       "      <td>Nurse took in disabled teen, then tortured and...</td>\n",
       "      <td>news</td>\n",
       "    </tr>\n",
       "  </tbody>\n",
       "</table>\n",
       "</div>"
      ],
      "text/plain": [
       "       news_id                                              title category\n",
       "76297   N47925  Three school workers charged in death of speci...     news\n",
       "77345   N58641  Car of Marine linked to Virginia slaying is fo...     news\n",
       "85920   N87684  37 Years After His Wife Is Found Dead with an ...     news\n",
       "88664   N30899  College gymnast dies following training accide...     news\n",
       "91502  N106875  Nurse took in disabled teen, then tortured and...     news"
      ]
     },
     "metadata": {},
     "output_type": "display_data"
    }
   ],
   "source": [
    "# Try 50 random users from your user-item matrix\n",
    "for user_id in user_item_matrix.sample(50).index:\n",
    "    result = hybrid_recommend(user_id=user_id, top_n=5, category_filter=None)\n",
    "    if not result.empty:\n",
    "        print(\"✅ Try this user:\", user_id)\n",
    "        display(result[['news_id', 'title', 'category']])\n",
    "        break\n",
    "else:\n",
    "    print(\"❌ No users found with recommendations. Try relaxing filters.\")\n"
   ]
  },
  {
   "cell_type": "code",
   "execution_count": 31,
   "id": "37fd7453",
   "metadata": {},
   "outputs": [],
   "source": [
    "def get_time_slot(hour):\n",
    "    if 5 <= hour < 11:\n",
    "        return 'morning'\n",
    "    elif 11 <= hour < 16:\n",
    "        return 'midday'\n",
    "    elif 16 <= hour < 20:\n",
    "        return 'evening'\n",
    "    elif 20 <= hour < 24:\n",
    "        return 'night'\n",
    "    else:\n",
    "        return 'late_night'\n",
    "\n",
    "# Add time slot column to behaviors_df\n",
    "behaviors_df['hour'] = pd.to_datetime(behaviors_df['timestamp']).dt.hour\n",
    "behaviors_df['time_slot'] = behaviors_df['hour'].apply(get_time_slot)\n"
   ]
  },
  {
   "cell_type": "code",
   "execution_count": 32,
   "id": "aa62a583",
   "metadata": {},
   "outputs": [
    {
     "ename": "",
     "evalue": "",
     "output_type": "error",
     "traceback": [
      "\u001b[1;31mThe Kernel crashed while executing code in the current cell or a previous cell. \n",
      "\u001b[1;31mPlease review the code in the cell(s) to identify a possible cause of the failure. \n",
      "\u001b[1;31mClick <a href='https://aka.ms/vscodeJupyterKernelCrash'>here</a> for more info. \n",
      "\u001b[1;31mView Jupyter <a href='command:jupyter.viewOutput'>log</a> for further details."
     ]
    }
   ],
   "source": [
    "# Explode impressions and join with news to get categories\n",
    "exploded = behaviors_df.copy()\n",
    "exploded['impression_ids'] = exploded['impressions'].str.split()\n",
    "exploded = exploded.explode('impression_ids')\n",
    "exploded['news_id'] = exploded['impression_ids'].str.split('-').str[0]\n",
    "\n",
    "# Merge with news_df to get categories\n",
    "news_categories = exploded.merge(news_df[['news_id', 'category']], on='news_id')\n",
    "\n",
    "# Count top categories per time slot\n",
    "slot_category_boost = news_categories.groupby(['time_slot', 'category']).size().unstack(fill_value=0)\n",
    "\n",
    "# Normalize per time slot (optional, for relative boosting)\n",
    "slot_category_boost = slot_category_boost.div(slot_category_boost.sum(axis=1), axis=0)\n"
   ]
  },
  {
   "cell_type": "code",
   "execution_count": null,
   "id": "55e90131",
   "metadata": {},
   "outputs": [],
   "source": [
    "def hybrid_recommend(user_id, top_n=5, category_filter=None):\n",
    "    if user_id not in user_index:\n",
    "        print(\"User not found.\")\n",
    "        return pd.DataFrame()\n",
    "\n",
    "    user_idx = np.where(user_index == user_id)[0][0]\n",
    "    \n",
    "    # === USER-BASED CF ===\n",
    "    sim_scores = list(enumerate(user_similarity[user_idx]))\n",
    "    top_users = [i for i, _ in sorted(sim_scores, key=lambda x: x[1], reverse=True)[1:11]]\n",
    "    user_based_scores = user_item_matrix.iloc[top_users].mean(axis=0)\n",
    "\n",
    "    # === ITEM-BASED CF ===\n",
    "    clicked_items = user_item_matrix.loc[user_id]\n",
    "    clicked_ids = clicked_items[clicked_items > 0].index.tolist()\n",
    "\n",
    "    item_scores = np.zeros(len(item_item_matrix))\n",
    "    for item in clicked_ids:\n",
    "        item_idx = np.where(item_index == item)[0][0]\n",
    "        item_scores += item_item_matrix[item_idx]\n",
    "\n",
    "    for item in clicked_ids:\n",
    "        item_idx = np.where(item_index == item)[0][0]\n",
    "        item_scores[item_idx] = 0\n",
    "\n",
    "    item_based_scores = pd.Series(item_scores, index=item_index)\n",
    "\n",
    "    # === COMBINE HYBRID SCORE ===\n",
    "    hybrid_scores = (user_based_scores + item_based_scores) / 2\n",
    "\n",
    "    # === CATEGORY PREFERENCE BOOST ===\n",
    "    preferred_cat = user_category_pref.get(user_id, None)\n",
    "    if preferred_cat:\n",
    "        category_map = news_df.set_index('news_id')['category'].to_dict()\n",
    "        for nid in hybrid_scores.index:\n",
    "            if category_map.get(nid) == preferred_cat:\n",
    "                hybrid_scores[nid] *= 1.2\n",
    "\n",
    "    # === TIME SLOT CATEGORY BOOSTING ===\n",
    "    current_hour = datetime.now().hour\n",
    "    current_slot = get_time_slot(current_hour)\n",
    "\n",
    "    if current_slot in slot_category_boost.index:\n",
    "        slot_weights = slot_category_boost.loc[current_slot].to_dict()\n",
    "        category_map = news_df.set_index('news_id')['category'].to_dict()\n",
    "\n",
    "        for nid in hybrid_scores.index:\n",
    "            cat = category_map.get(nid)\n",
    "            if cat and slot_weights.get(cat):\n",
    "                hybrid_scores[nid] *= (1 + slot_weights[cat])  # e.g., boost by +10–50%\n",
    "\n",
    "\n",
    "    # === FILTER UNSEEN ARTICLES ===\n",
    "    user_clicked = user_item_matrix.loc[user_id]\n",
    "    hybrid_scores = hybrid_scores[user_clicked == 0]\n",
    "\n",
    "    # === Optional: Filter by chosen category ===\n",
    "    if category_filter:\n",
    "        category_map = news_df.set_index('news_id')['category'].to_dict()\n",
    "        hybrid_scores = hybrid_scores[[nid for nid in hybrid_scores.index if category_map.get(nid) == category_filter]]\n",
    "\n",
    "    # === Recommend Top N ===\n",
    "    top_articles = hybrid_scores.sort_values(ascending=False).head(top_n).index.tolist()\n",
    "    return news_df[news_df['news_id'].isin(top_articles)][['news_id', 'title', 'category', 'abstract']]\n"
   ]
  }
 ],
 "metadata": {
  "kernelspec": {
   "display_name": "venv",
   "language": "python",
   "name": "python3"
  },
  "language_info": {
   "codemirror_mode": {
    "name": "ipython",
    "version": 3
   },
   "file_extension": ".py",
   "mimetype": "text/x-python",
   "name": "python",
   "nbconvert_exporter": "python",
   "pygments_lexer": "ipython3",
   "version": "3.12.10"
  }
 },
 "nbformat": 4,
 "nbformat_minor": 5
}
